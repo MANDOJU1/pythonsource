{
 "cells": [
  {
   "cell_type": "markdown",
   "metadata": {},
   "source": [
    "### 예외처리\n",
    "> try ~ except 문\n",
    "- try 오류발생구문 except 발생오류\n",
    "- try 오류발생구문 except 발생오류 as 변수명(별칭)\n",
    "\n",
    "> try ~ finally 문\n",
    "- finally : 오류 발생 여부와 상관없이 무조건 실행할 구문 \n",
    "\n",
    "> try ~ except ~ els ~ finally 문\n",
    "- else : 오류 발생하지 않을 때 수행 구문"
   ]
  },
  {
   "cell_type": "code",
   "execution_count": null,
   "metadata": {},
   "outputs": [],
   "source": [
    "# 문법오류 : syntax error\n",
    "# 실행오류 : runtime error\n",
    "\n",
    "10 / 0 # ZeroDivisionError"
   ]
  },
  {
   "cell_type": "code",
   "execution_count": null,
   "metadata": {},
   "outputs": [],
   "source": [
    "list1 = [10,20,30]\n",
    "list1[3] # IndexError"
   ]
  },
  {
   "cell_type": "code",
   "execution_count": null,
   "metadata": {},
   "outputs": [],
   "source": [
    "dict1 = {\"name\":\"kim\",\"age\":\"33\"}\n",
    "dict1[\"addr\"] # KeyError"
   ]
  },
  {
   "cell_type": "code",
   "execution_count": 5,
   "metadata": {},
   "outputs": [
    {
     "name": "stdout",
     "output_type": "stream",
     "text": [
      "예외발생\n"
     ]
    }
   ],
   "source": [
    "try:\n",
    "    list1 = [10,20,30]\n",
    "    print(list1[3])\n",
    "except IndexError:\n",
    "    print(\"예외발생\")"
   ]
  },
  {
   "cell_type": "code",
   "execution_count": 10,
   "metadata": {},
   "outputs": [
    {
     "name": "stdout",
     "output_type": "stream",
     "text": [
      "list index out of range\n",
      "예외발생\n"
     ]
    }
   ],
   "source": [
    "try:\n",
    "    list1 = [10,20,30]\n",
    "    print(list1[3])\n",
    "except IndexError as e:\n",
    "    print(e) # list index out of range\n",
    "    print(\"예외발생\")\n"
   ]
  },
  {
   "cell_type": "code",
   "execution_count": null,
   "metadata": {},
   "outputs": [],
   "source": [
    "try:\n",
    "    f = open(\"foo.txt\", \"r\")\n",
    "finally:\n",
    "    f.close()"
   ]
  },
  {
   "cell_type": "code",
   "execution_count": 12,
   "metadata": {},
   "outputs": [
    {
     "name": "stdout",
     "output_type": "stream",
     "text": [
      "10\n",
      "오류 발생 안함\n"
     ]
    }
   ],
   "source": [
    "try:\n",
    "    list1 = [10,20,30]\n",
    "    print(list1[0])\n",
    "except Exception as e:\n",
    "    print(e)\n",
    "else:\n",
    "    print(\"오류 발생 안함\")"
   ]
  },
  {
   "cell_type": "code",
   "execution_count": 14,
   "metadata": {},
   "outputs": [
    {
     "name": "stdout",
     "output_type": "stream",
     "text": [
      "invalid literal for int() with base 10: '야'\n"
     ]
    }
   ],
   "source": [
    "try:\n",
    "    number_input = int(input(\"정수 입력\"))\n",
    "except ValueError as e:\n",
    "    print(e)\n",
    "else:\n",
    "    print(\"숫자\", number_input)"
   ]
  },
  {
   "cell_type": "code",
   "execution_count": 16,
   "metadata": {},
   "outputs": [
    {
     "name": "stdout",
     "output_type": "stream",
     "text": [
      "문제 발생\n"
     ]
    }
   ],
   "source": [
    "try:\n",
    "    a = \"333\"\n",
    "    if a == \"Kim\":\n",
    "        print(\"OK\")\n",
    "    else:\n",
    "        raise ValueError\n",
    "except ValueError:\n",
    "    print(\"문제 발생\")\n",
    "else:\n",
    "    print(\"OK!!\")"
   ]
  },
  {
   "cell_type": "code",
   "execution_count": 20,
   "metadata": {},
   "outputs": [
    {
     "ename": "IndexError",
     "evalue": "Replacement index 1 out of range for positional args tuple",
     "output_type": "error",
     "traceback": [
      "\u001b[1;31m---------------------------------------------------------------------------\u001b[0m",
      "\u001b[1;31mIndexError\u001b[0m                                Traceback (most recent call last)",
      "Cell \u001b[1;32mIn[20], line 4\u001b[0m\n\u001b[0;32m      1\u001b[0m numbers \u001b[38;5;241m=\u001b[39m [\u001b[38;5;241m52\u001b[39m,\u001b[38;5;241m273\u001b[39m,\u001b[38;5;241m32\u001b[39m,\u001b[38;5;241m103\u001b[39m,\u001b[38;5;241m90\u001b[39m,\u001b[38;5;241m10\u001b[39m,\u001b[38;5;241m275\u001b[39m]\n\u001b[0;32m      3\u001b[0m \u001b[38;5;28;01mtry\u001b[39;00m:\n\u001b[1;32m----> 4\u001b[0m     \u001b[38;5;28mprint\u001b[39m(\u001b[38;5;124;43m\"\u001b[39;49m\u001b[38;5;132;43;01m{}\u001b[39;49;00m\u001b[38;5;124;43m 는 \u001b[39;49m\u001b[38;5;132;43;01m{}\u001b[39;49;00m\u001b[38;5;124;43m 위치에 있습니다. \u001b[39;49m\u001b[38;5;124;43m\"\u001b[39;49m\u001b[38;5;241;43m.\u001b[39;49m\u001b[43mformat\u001b[49m\u001b[43m(\u001b[49m\u001b[43mnumbers\u001b[49m\u001b[38;5;241;43m.\u001b[39;49m\u001b[43mindex\u001b[49m\u001b[43m(\u001b[49m\u001b[38;5;241;43m52\u001b[39;49m\u001b[43m)\u001b[49m\u001b[43m)\u001b[49m)\n\u001b[0;32m      5\u001b[0m     numbers\u001b[38;5;241m.\u001b[39mindex(\u001b[38;5;241m1000\u001b[39m)\n\u001b[0;32m      6\u001b[0m \u001b[38;5;28;01mexcept\u001b[39;00m \u001b[38;5;167;01mValueError\u001b[39;00m:\n",
      "\u001b[1;31mIndexError\u001b[0m: Replacement index 1 out of range for positional args tuple"
     ]
    }
   ],
   "source": [
    "numbers = [52,273,32,103,90,10,275]\n",
    "\n",
    "try:\n",
    "    print(\"{} 는 {} 위치에 있습니다. \".format(numbers.index(52)))\n",
    "    print(\"{} 는 {} 위치에 있습니다. \".formatnumbers.index(1000))\n",
    "except ValueError:\n",
    "    print(\"리스트에 없는 값입니다\")\n"
   ]
  },
  {
   "cell_type": "code",
   "execution_count": null,
   "metadata": {},
   "outputs": [],
   "source": []
  }
 ],
 "metadata": {
  "kernelspec": {
   "display_name": "venv",
   "language": "python",
   "name": "python3"
  },
  "language_info": {
   "codemirror_mode": {
    "name": "ipython",
    "version": 3
   },
   "file_extension": ".py",
   "mimetype": "text/x-python",
   "name": "python",
   "nbconvert_exporter": "python",
   "pygments_lexer": "ipython3",
   "version": "3.12.3"
  }
 },
 "nbformat": 4,
 "nbformat_minor": 2
}
