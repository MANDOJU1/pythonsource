{
 "cells": [
  {
   "cell_type": "markdown",
   "metadata": {},
   "source": [
    "### 예외처리\n",
    "> try ~ except 문\n",
    "- try 오류발생구문 except 발생오류\n",
    "- try 오류발생구문 except 발생오류 as 변수명(별칭)\n",
    "\n",
    "> try ~ finally 문\n",
    "- finally : 오류 발생 여부와 상관없이 무조건 실행할 구문 \n",
    "\n",
    "> try ~ except ~ els ~ finally 문\n",
    "- else : 오류 발생하지 않을 때 수행 구문"
   ]
  },
  {
   "cell_type": "code",
   "execution_count": null,
   "metadata": {},
   "outputs": [],
   "source": [
    "# 문법오류 : syntax error\n",
    "# 실행오류 : runtime error\n",
    "\n",
    "10 / 0 # ZeroDivisionError"
   ]
  },
  {
   "cell_type": "code",
   "execution_count": null,
   "metadata": {},
   "outputs": [],
   "source": [
    "list1 = [10,20,30]\n",
    "list1[3] # IndexError"
   ]
  },
  {
   "cell_type": "code",
   "execution_count": null,
   "metadata": {},
   "outputs": [],
   "source": [
    "dict1 = {\"name\":\"kim\",\"age\":\"33\"}\n",
    "dict1[\"addr\"] # KeyError"
   ]
  },
  {
   "cell_type": "code",
   "execution_count": 5,
   "metadata": {},
   "outputs": [
    {
     "name": "stdout",
     "output_type": "stream",
     "text": [
      "예외발생\n"
     ]
    }
   ],
   "source": [
    "try:\n",
    "    list1 = [10,20,30]\n",
    "    print(list1[3])\n",
    "except IndexError:\n",
    "    print(\"예외발생\")"
   ]
  },
  {
   "cell_type": "code",
   "execution_count": 10,
   "metadata": {},
   "outputs": [
    {
     "name": "stdout",
     "output_type": "stream",
     "text": [
      "list index out of range\n",
      "예외발생\n"
     ]
    }
   ],
   "source": [
    "try:\n",
    "    list1 = [10,20,30]\n",
    "    print(list1[3])\n",
    "except IndexError as e:\n",
    "    print(e) # list index out of range\n",
    "    print(\"예외발생\")\n"
   ]
  },
  {
   "cell_type": "code",
   "execution_count": null,
   "metadata": {},
   "outputs": [],
   "source": [
    "try:\n",
    "    f = open(\"foo.txt\", \"r\")\n",
    "finally:\n",
    "    f.close()"
   ]
  },
  {
   "cell_type": "code",
   "execution_count": 12,
   "metadata": {},
   "outputs": [
    {
     "name": "stdout",
     "output_type": "stream",
     "text": [
      "10\n",
      "오류 발생 안함\n"
     ]
    }
   ],
   "source": [
    "try:\n",
    "    list1 = [10,20,30]\n",
    "    print(list1[0])\n",
    "except Exception as e:\n",
    "    print(e)\n",
    "else:\n",
    "    print(\"오류 발생 안함\")"
   ]
  },
  {
   "cell_type": "code",
   "execution_count": 14,
   "metadata": {},
   "outputs": [
    {
     "name": "stdout",
     "output_type": "stream",
     "text": [
      "invalid literal for int() with base 10: '야'\n"
     ]
    }
   ],
   "source": [
    "try:\n",
    "    number_input = int(input(\"정수 입력\"))\n",
    "except ValueError as e:\n",
    "    print(e)\n",
    "else:\n",
    "    print(\"숫자\", number_input)"
   ]
  },
  {
   "cell_type": "code",
   "execution_count": 16,
   "metadata": {},
   "outputs": [
    {
     "name": "stdout",
     "output_type": "stream",
     "text": [
      "문제 발생\n"
     ]
    }
   ],
   "source": [
    "try:\n",
    "    a = \"333\"\n",
    "    if a == \"Kim\":\n",
    "        print(\"OK\")\n",
    "    else:\n",
    "        raise ValueError\n",
    "except ValueError:\n",
    "    print(\"문제 발생\")\n",
    "else:\n",
    "    print(\"OK!!\")"
   ]
  },
  {
   "cell_type": "code",
   "execution_count": 21,
   "metadata": {},
   "outputs": [
    {
     "name": "stdout",
     "output_type": "stream",
     "text": [
      "52 는 0 위치에 있습니다. \n",
      "리스트에 없는 값입니다\n"
     ]
    }
   ],
   "source": [
    "numbers = [52,273,32,103,90,10,275]\n",
    "\n",
    "try:\n",
    "    print(\"{} 는 {} 위치에 있습니다. \".format(52, numbers.index(52)))\n",
    "    print(\"{} 는 {} 위치에 있습니다. \".format(1000, numbers.index(1000)))\n",
    "except ValueError:\n",
    "    print(\"리스트에 없는 값입니다\")\n"
   ]
  }
 ],
 "metadata": {
  "kernelspec": {
   "display_name": "venv",
   "language": "python",
   "name": "python3"
  },
  "language_info": {
   "codemirror_mode": {
    "name": "ipython",
    "version": 3
   },
   "file_extension": ".py",
   "mimetype": "text/x-python",
   "name": "python",
   "nbconvert_exporter": "python",
   "pygments_lexer": "ipython3",
   "version": "3.12.3"
  }
 },
 "nbformat": 4,
 "nbformat_minor": 2
}
