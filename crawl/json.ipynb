{
 "cells": [
  {
   "cell_type": "code",
   "execution_count": 7,
   "metadata": {},
   "outputs": [
    {
     "name": "stdout",
     "output_type": "stream",
     "text": [
      "{'id': 'hong', 'language': 'python', 'edition': '3.5', 'author': 'Guido van Rossum'}\n",
      "hong\n",
      "hong\n",
      "id hong\n",
      "language python\n",
      "edition 3.5\n",
      "author Guido van Rossum\n"
     ]
    }
   ],
   "source": [
    "import json\n",
    "# JSON 형태로 바꾸기\n",
    "\n",
    "# 자바스크립트 → JSON\n",
    "# {} → JSON.stringfy()\n",
    "\n",
    "# 파이썬 → JSON\n",
    "\n",
    "data = '{\"id\":\"hong\",\"language\":\"python\",\"edition\":\"3.5\",\"author\":\"Guido van Rossum\"}'\n",
    "\n",
    "# type(data) # str\n",
    "# loads(str) → dict 구조로 바꿔줌 / str → json.loads() → dict \n",
    "json_data = json.loads(data)\n",
    "print(json_data) # {'id': 'hong', 'language': 'python', 'edition': '3.5', 'author': 'Guido van Rossum'}\n",
    "print(json_data['id']) # hong\n",
    "print(json_data.get('id')) # hong\n",
    "\n",
    "for k,v in json_data.items():\n",
    "    print(k,v)"
   ]
  },
  {
   "cell_type": "code",
   "execution_count": 14,
   "metadata": {},
   "outputs": [
    {
     "name": "stdout",
     "output_type": "stream",
     "text": [
      "<class 'str'>\n",
      "{\"id\": \"hong\", \"language\": \"python\", \"edition\": \"3.5\", \"author\": \"Guido van Rossum\"}\n"
     ]
    }
   ],
   "source": [
    "data = {\"id\":\"hong\",\"language\":\"python\",\"edition\":\"3.5\",\"author\":\"Guido van Rossum\"}\n",
    "# type(data) # dict\n",
    "\n",
    "# dumps(json) → str 구조로 바꿔줌 / dict → json.dumps() → str\n",
    "json_data = json.dumps(data)\n",
    "\n",
    "print(type(json_data)) # <class 'str'>\n",
    "print(json_data) # {\"id\": \"hong\", \"language\": \"python\", \"edition\": \"3.5\", \"author\": \"Guido van Rossum\"}"
   ]
  },
  {
   "cell_type": "code",
   "execution_count": 17,
   "metadata": {},
   "outputs": [],
   "source": [
    "data = {\"id\":\"hong\",\"language\":\"python\",\"edition\":\"3.5\",\"author\":\"Guido van Rossum\"}\n",
    "\n",
    "# dump(dict) → json 파일로 저장\n",
    "\n",
    "with open(\"./download/test.json\",\"w\",encoding=\"utf-8\") as f:\n",
    "    json.dump(data, f, indent=2)"
   ]
  },
  {
   "cell_type": "code",
   "execution_count": 19,
   "metadata": {},
   "outputs": [
    {
     "name": "stdout",
     "output_type": "stream",
     "text": [
      "{'id': 'hong', 'language': 'python', 'edition': '3.5', 'author': 'Guido van Rossum'}\n"
     ]
    }
   ],
   "source": [
    "# load(jsonfile) → dict 으로 읽어오기\n",
    "\n",
    "with open(\"./download/test.json\",\"r\",encoding=\"utf-8\") as f:\n",
    "    print(json.load(f)) # {'id': 'hong', 'language': 'python', 'edition': '3.5', 'author': 'Guido van Rossum'}"
   ]
  },
  {
   "cell_type": "code",
   "execution_count": 24,
   "metadata": {},
   "outputs": [
    {
     "name": "stdout",
     "output_type": "stream",
     "text": [
      "youtube#videoCategory Film & Animation\n",
      "youtube#videoCategory Autos & Vehicles\n",
      "youtube#videoCategory Music\n",
      "youtube#videoCategory Pets & Animals\n",
      "youtube#videoCategory Sports\n",
      "youtube#videoCategory Short Movies\n",
      "youtube#videoCategory Travel & Events\n",
      "youtube#videoCategory Gaming\n",
      "youtube#videoCategory Videoblogging\n",
      "youtube#videoCategory People & Blogs\n",
      "youtube#videoCategory Comedy\n",
      "youtube#videoCategory Entertainment\n",
      "youtube#videoCategory News & Politics\n",
      "youtube#videoCategory Howto & Style\n",
      "youtube#videoCategory Education\n",
      "youtube#videoCategory Science & Technology\n",
      "youtube#videoCategory Nonprofits & Activism\n",
      "youtube#videoCategory Movies\n",
      "youtube#videoCategory Anime/Animation\n",
      "youtube#videoCategory Action/Adventure\n",
      "youtube#videoCategory Classics\n",
      "youtube#videoCategory Comedy\n",
      "youtube#videoCategory Documentary\n",
      "youtube#videoCategory Drama\n",
      "youtube#videoCategory Family\n",
      "youtube#videoCategory Foreign\n",
      "youtube#videoCategory Horror\n",
      "youtube#videoCategory Sci-Fi/Fantasy\n",
      "youtube#videoCategory Thriller\n",
      "youtube#videoCategory Shorts\n",
      "youtube#videoCategory Shows\n",
      "youtube#videoCategory Trailers\n"
     ]
    }
   ],
   "source": [
    "# US_category 읽은 후 ltems 안에 kind와 title 출력\n",
    "with open (\"./download/US_category_id.json\", \"r\") as f:\n",
    "    # print(json.load(f))\n",
    "    json_data = json.load(f)\n",
    "    # print(json_data[\"items\"])\n",
    "    for item in json_data[\"items\"]:\n",
    "        print(item[\"kind\"], item[\"snippet\"][\"title\"])"
   ]
  }
 ],
 "metadata": {
  "kernelspec": {
   "display_name": "venv",
   "language": "python",
   "name": "python3"
  },
  "language_info": {
   "codemirror_mode": {
    "name": "ipython",
    "version": 3
   },
   "file_extension": ".py",
   "mimetype": "text/x-python",
   "name": "python",
   "nbconvert_exporter": "python",
   "pygments_lexer": "ipython3",
   "version": "3.12.3"
  }
 },
 "nbformat": 4,
 "nbformat_minor": 2
}
