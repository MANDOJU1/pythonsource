{
 "cells": [
  {
   "cell_type": "markdown",
   "metadata": {},
   "source": [
    "#### 파이썬 기본 라이브러리 사용\n",
    "- urllib 이용\n",
    "    - request : 요청\n",
    "    - error : urllib.request 의해 발생하는 예외\n",
    "    - parse : URL 구문분석\n",
    "    - robotparser : robots.txt 파일 구문 분석"
   ]
  },
  {
   "cell_type": "code",
   "execution_count": 25,
   "metadata": {},
   "outputs": [],
   "source": [
    "import urllib.request as req\n",
    "from urllib.error import HTTPError\n",
    "from urllib.parse import urlparse, urlencode"
   ]
  },
  {
   "cell_type": "code",
   "execution_count": 5,
   "metadata": {},
   "outputs": [
    {
     "name": "stdout",
     "output_type": "stream",
     "text": [
      "./download/google.html\n",
      "Date: Wed, 22 May 2024 03:42:32 GMT\n",
      "Expires: -1\n",
      "Cache-Control: private, max-age=0\n",
      "Content-Type: text/html; charset=ISO-8859-1\n",
      "Content-Security-Policy-Report-Only: object-src 'none';base-uri 'self';script-src 'nonce-OX1CwDcKVI7Jqhx5EYTXxA' 'strict-dynamic' 'report-sample' 'unsafe-eval' 'unsafe-inline' https: http:;report-uri https://csp.withgoogle.com/csp/gws/other-hp\n",
      "P3P: CP=\"This is not a P3P policy! See g.co/p3phelp for more info.\"\n",
      "Server: gws\n",
      "X-XSS-Protection: 0\n",
      "X-Frame-Options: SAMEORIGIN\n",
      "Set-Cookie: AEC=AQTF6HxlH8vCMIwVum-wY_m_4MCO4yvpvWJEE7dlkGYmuz-sqmERGsKIHbQ; expires=Mon, 18-Nov-2024 03:42:32 GMT; path=/; domain=.google.com; Secure; HttpOnly; SameSite=lax\n",
      "Set-Cookie: NID=514=ZwfAi_vLOY7Nbl1uD5oIN-b4C2T0Vuyb07dtTxDbPUIbQeTbQaVP8SBDpwWuv7rqeLlW4qgrb64fi878GSI4VYL3dDxvI4iKgnRwEsr5MKFtX7if78sJSzL4F4rbmVVcCrirApzJD8ezyeGzGGcGAI2q-fTJFlyJsf5ZITlOEQw; expires=Thu, 21-Nov-2024 03:42:32 GMT; path=/; domain=.google.com; HttpOnly\n",
      "Accept-Ranges: none\n",
      "Vary: Accept-Encoding\n",
      "Connection: close\n",
      "Transfer-Encoding: chunked\n",
      "\n",
      "\n"
     ]
    }
   ],
   "source": [
    "url = \"http://www.google.com/\"\n",
    "\n",
    "save_path = \"./download/google.html\"\n",
    "\n",
    "# urlretrieve(요청주소, 파일이름) : 요청하는 url의 정보를 로컬파일로 저장\n",
    "#                                  튜플로 결과 반환됨\n",
    "#                                  csv 파일, api 데이터 요청 시 사용\n",
    "file1, header1 = req.urlretrieve(url, save_path)\n",
    "print(file1)\n",
    "print(header1)"
   ]
  },
  {
   "cell_type": "code",
   "execution_count": 6,
   "metadata": {},
   "outputs": [],
   "source": [
    "img_url = \"https://search.pstatic.net/sunny/?src=https%3A%2F%2Fi.pinimg.com%2F736x%2Fd1%2Fd1%2F44%2Fd1d144b365c3a570af83005eb172b6bb.jpg&type=a340\"\n",
    "html_url = \"https://naver.com\"\n",
    "\n",
    "img_save_path = \"./download/dog.png\"\n",
    "html_save_path = \"./download/naver.html\"\n",
    "\n",
    "file1, header1 = req.urlretrieve(img_url, img_save_path)\n",
    "file2, header2 = req.urlretrieve(html_url, html_save_path)"
   ]
  },
  {
   "cell_type": "code",
   "execution_count": 8,
   "metadata": {},
   "outputs": [
    {
     "name": "stdout",
     "output_type": "stream",
     "text": [
      "<?xml version=\"1.0\" encoding=\"utf-8\" ?>\n",
      "<rss version=\"2.0\">\n",
      "<channel>\n",
      "<title>기상청 육상 중기예보</title>\n",
      "<link>http://www.kma.go.kr/weather/forecast/mid-term_02.jsp</link>\n",
      "<description>기상청 날씨 웹서비스</description>\n",
      "<language>ko</language>\n",
      "<generator>기상청</generator>\n",
      "<pubDate>2024년 05월 22일 (수)요일 06:00</pubDate>\n",
      " <item>\n",
      "<author>기상청</author>\n",
      "<category>육상중기예보</category>\n",
      "<title>서울,경기도 육상 중기예보 - 2024년 05월 22일 (수)요일 06:00 발표</title>\n",
      "<link>http://www.kma.go.kr/weather/forecast/mid-term_02.jsp</link>\n",
      "<guid>http://www.kma.go.kr/weather/forecast/mid-term_02.jsp</guid>\n",
      "<description>\n",
      "\t<header>\n",
      "\t\t<title>서울,경기도 육상중기예보</title>\n",
      "\t\t<tm>202405220600</tm>\n",
      "\t\t<wf><![CDATA[○ (강수) 26일(일) 오후~27일(월) 오전에 비가 오겠습니다.<br />○ (기온) 아침 기온은 13~18도로 평년(최저기온 12~16도)과 비슷하거나 조금 높겠습니다.<br />          낮 기온은 27일(월)에 20~24도로 평년(최고기온 23~26도)보다 낮겠고, 그 밖의 날은 22~27도로 평년(최고기온 23~27도)과 비슷하겠습니다.<br />○ (해상) 서해중부해상의 물결은 27일(월)에 1.0~2.5m로 조금 높게 일겠고, 그 밖의 날은 0.5~2.0m로 일겠습니다.<br />○ (주말전망) 25일(토)은 구름많겠고, 26일(일)은 구름많다가 오후에 흐리고 비가 오겠습니\n"
     ]
    }
   ],
   "source": [
    "weather_url = \"http://www.kma.go.kr/weather/forecast/mid-term-rss3.jsp?stnId=109\"\n",
    "\n",
    "# urlopen(요청 주소) : 메모리에 사이트 내용을 올려놓고 분석만 하는 경우 사용\n",
    "\n",
    "data = req.urlopen(weather_url).read()\n",
    "\n",
    "data = data.decode(\"utf-8\")\n",
    "\n",
    "print(data[:1000])\n"
   ]
  },
  {
   "cell_type": "code",
   "execution_count": null,
   "metadata": {},
   "outputs": [],
   "source": [
    "url = \"https://www.11st.co.kr/browsing/BestSeller.tmall?method=getBestSellerMain&xfrom=main^gnb\"\n",
    "\n",
    "data = req.urlopen(url).read()\n",
    "data = data.decode(\"euc-kr\")\n",
    "\n",
    "print(data[:1000])\n"
   ]
  },
  {
   "cell_type": "code",
   "execution_count": 16,
   "metadata": {},
   "outputs": [
    {
     "name": "stdout",
     "output_type": "stream",
     "text": [
      "type : <class 'http.client.HTTPResponse'>\n",
      "url : https://www.11st.co.kr/browsing/BestSeller.tmall?method=getBestSellerMain&xfrom=main^gnb\n",
      "status : 200\n",
      "header : [('Date', 'Wed, 22 May 2024 04:09:30 GMT'), ('Content-Type', 'text/html;charset=EUC-KR'), ('Transfer-Encoding', 'chunked'), ('Set-Cookie', 'JSESSIONID=2BE9568F08C3F3655FAC61E8E5F91363.Tomcat; Path=/; HttpOnly'), ('Access-Control-Allow-Credentials', 'true'), ('Connection', 'close'), ('Server', 'nginx')]\n",
      "\n",
      "<!DOCTYPE HTML PUBLIC \"-//W3C//DTD HTML 4.01 Transitional//EN\" \"http://www.w3.org/TR/html4/loose.dtd\">\n",
      "\n",
      "\n",
      "\n",
      "\n",
      "<html lang=\"ko\">\n",
      "<head>\n",
      "\n",
      "<title>11번가 베스트 | 11번가</title>\n",
      "<meta name=\"Title\" content=\"11번가 베스트 | 11번가\">\n",
      "<meta name=\"Description\" content=\" 베스트! 다른 사람들은 지금 뭘 살까? 11번가 추천하는 실시간  베스트 아이템 순위!\">\n",
      "<meta name=\"Keywords\" content=\" | 11번가\">\n",
      "<meta http-equiv=\"Content-Type\" content=\"text/html; charset=euc-kr\">\n",
      "<meta http-equiv=\"X-UA-Compatible\" content=\"IE=edge\">\n",
      "<link rel=\"canonical\" href=\"//www.11st.co.kr/browsing/BestSeller.tmall?method=getBestSellerMain&#38;xfrom=main^gnb\"/><link rel=\"alternate\" media=\"only screen and (max-width: 640px)\" href=\"//m.11st.co.kr/page/main/rank\"/>\n",
      "\n",
      "\n",
      "\n",
      "<script type=\"text/javascript\" src=\"//c.011st.com/html/experiment/experimentMetaInfo.js\"></script>\n",
      "\n",
      "<script type=\"text/javascript\" src=\"//c.011st.com/js/plab/plab-web-sdk-0.9.1.min.js\"></script>\n",
      "\n",
      "<script>\n",
      "\n",
      "    var plabPageKey = '/best200/category';\n",
      "    try{\n",
      "\n",
      "        var params = {\n",
      "            projectKey : \"11st_web\n"
     ]
    }
   ],
   "source": [
    "url = \"https://www.11st.co.kr/browsing/BestSeller.tmall?method=getBestSellerMain&xfrom=main^gnb\"\n",
    "\n",
    "try:\n",
    "    response = req.urlopen(url)\n",
    "\n",
    "    print(\"type : {}\".format(type(response))) # <class 'http.client.HTTPResponse'>\n",
    "    print(\"url : {}\".format(response.geturl())) # 위에 url 주소\n",
    "    print(\"status : {}\".format(response.status)) #  200\n",
    "    print(\"header : {}\".format(response.getheaders()))\n",
    "    # [('Date', 'Wed, 22 May 2024 04:09:30 GMT'), ('Content-Type', 'text/html;charset=EUC-KR'), ('Transfer-Encoding', 'chunked'), ('Set-Cookie', 'JSESSIONID=2BE9568F08C3F3655FAC61E8E5F91363.Tomcat; Path=/; HttpOnly'), ('Access-Control-Allow-Credentials', 'true'), ('Connection', 'close'), ('Server', 'nginx')]\n",
    "\n",
    "    contents = response.read().decode(\"euc-kr\")\n",
    "except Exception as e:\n",
    "    print(e)\n",
    "else:\n",
    "    print(contents[:1000])"
   ]
  },
  {
   "cell_type": "code",
   "execution_count": 4,
   "metadata": {},
   "outputs": [
    {
     "name": "stdout",
     "output_type": "stream",
     "text": [
      "성공\n",
      "성공\n"
     ]
    }
   ],
   "source": [
    "# 위에 했던 방법을 다른방법으로 사용\n",
    "urls = [\"https://search.pstatic.net/sunny/?src=https%3A%2F%2Fi.pinimg.com%2F736x%2Fd1%2Fd1%2F44%2Fd1d144b365c3a570af83005eb172b6bb.jpg&type=a340\"\n",
    "        , \"https://naver.com\"]\n",
    "\n",
    "paths = [\"./download/dog.png\", \"./download/naver.html\"]\n",
    "\n",
    "for idx, url in enumerate(urls):\n",
    "    try:\n",
    "        response = req.urlopen(url)\n",
    "        contents = response.read()\n",
    "\n",
    "        # 파일저장\n",
    "        # wb : write/byte\n",
    "        with open(paths[idx], \"wb\") as f:\n",
    "            f.write(contents)\n",
    "        \n",
    "\n",
    "    except HTTPError as e:\n",
    "        print(e)\n",
    "        print(e.code)\n",
    "    else:\n",
    "        print(\"성공\")"
   ]
  },
  {
   "cell_type": "code",
   "execution_count": null,
   "metadata": {},
   "outputs": [],
   "source": [
    "# https://n.news.naver.com/article/003/0012562193?cds=news_media_pc&type=editn\n",
    "\n",
    "url = \"https://n.news.naver.com/article/003/0012562193?cds=news_media_pc&type=editn\"\n",
    "\n",
    "\n",
    "try:\n",
    "    response = req.urlopen(url).read().decode(\"utf-8\")\n",
    "except HTTPError as e:\n",
    "    print(e.code)\n",
    "else:\n",
    "    print(response)"
   ]
  },
  {
   "cell_type": "code",
   "execution_count": 17,
   "metadata": {},
   "outputs": [],
   "source": [
    "url = \"http://kobis.or.kr/kobisopenapi/webservice/rest/boxoffice/searchDailyBoxOfficeList.xml?key=f5eef3421c602c6cb7ea224104795888&targetDt=20240522\"\n",
    "\n",
    "try:\n",
    "    response = req.urlopen(url).read().decode(\"utf-8\")           \n",
    "except HTTPError as e:\n",
    "    print(e.code)\n",
    "else:\n",
    "    # print(response)\n",
    "    # 파일저장\n",
    "    # wb : write/byte\n",
    "    with open(\"./download/movie.txt\", \"w\",encoding=\"utf-8\") as f:\n",
    "        f.write(response)"
   ]
  },
  {
   "cell_type": "code",
   "execution_count": 20,
   "metadata": {},
   "outputs": [
    {
     "name": "stdout",
     "output_type": "stream",
     "text": [
      "parse ParseResult(scheme='http', netloc='www.encar.com', path='', params='', query='test=test', fragment='')\n",
      "parse querytest=test \n",
      "성공\n"
     ]
    }
   ],
   "source": [
    "# 경로?key=value&key=value\n",
    "# ?page=1&type=t&keyword=영화\n",
    "\n",
    "try:\n",
    "    print(\"parse {}\".format(urlparse(\"http://www.encar.com?test=test\")))\n",
    "    print(\"parse query{}\".format(urlparse(\"http://www.encar.com?test=test\").query))\n",
    "except HTTPError as e:\n",
    "    print(e.code)\n",
    "else:\n",
    "    print(\"성공\")"
   ]
  },
  {
   "cell_type": "code",
   "execution_count": 22,
   "metadata": {},
   "outputs": [
    {
     "name": "stdout",
     "output_type": "stream",
     "text": [
      "성공\n",
      "{\"ip\":\"121.160.41.225\"}\n"
     ]
    }
   ],
   "source": [
    "# api.ipify.org / 121.160.41.225 (내부api주소)\n",
    "# api.ipify.org?format=json → json 형태로 담아줌\n",
    "\n",
    "url = \"https://api.ipify.org/\"\n",
    "param = \"format=json\"\n",
    "\n",
    "try:\n",
    "    response = req.urlopen(url + \"?\" + param).read().decode(\"utf-8\")\n",
    "except HTTPError as e:\n",
    "    print(e.code)\n",
    "else:\n",
    "    print(\"성공\")\n",
    "    print(response) # {\"ip\":\"121.160.41.225\"}"
   ]
  },
  {
   "cell_type": "code",
   "execution_count": 28,
   "metadata": {},
   "outputs": [
    {
     "name": "stdout",
     "output_type": "stream",
     "text": [
      "121.160.41.225\n"
     ]
    }
   ],
   "source": [
    "# key:value → dict형태로 바꾸기\n",
    "param = {\"format\":\"text\"}\n",
    "response = req.urlopen(url + \"?\" +urlencode(param)).read().decode(\"utf-8\")\n",
    "print(response)"
   ]
  },
  {
   "cell_type": "code",
   "execution_count": 30,
   "metadata": {},
   "outputs": [
    {
     "name": "stdout",
     "output_type": "stream",
     "text": [
      "kipOsid%22%3A%22%22%2C%22research%22%3A%220%22%2C%22oOs%22%3A%2234066085%22%2C%22topic%22%3A%22%EC%A7%80%EC%8B%9D%EB%B0%B1%EA%B3%BC%22%7D&qvt=0&query=%EC%98%81%ED%99%94%20%EC%98%81%EC%83%81%EB%AC%BC&x_bifrost=%7B%22theme%22%3A%22%22%2C%22group2_id%22%3A%2200047549%22%7D\" class=\"info_box\"> <div class=\"thumb_area type_left\"> <div class=\"thumb\"> <img src=\"data:image/gif;base64,R0lGODlhAQABAIAAAAAAAP///yH5BAEAAAAALAAAAAABAAEAAAIBRAA7\" class=\"bg_nimg\" width=\"69\" height=\"93\" alt=\"이미지\" onerror=\"this.onerror=null;this.src='data:image/gif;base64,R0lGODlhAQABAIAAAAAAAP///yH5BAEAAAAALAAAAAABAAEAAAIBRAA7';this.alt='이미지없음';this.className='bg_nimg2';\" data-lazysrc=\"https://search.pstatic.net/common?type=n&size=276x372&quality=95&direct=true&src=https%3A%2F%2Fdbscthumb-phinf.pstatic.net%2F2644_000_2%2F20190718020630869_T0LTEG4T0.jpg%2F9a82132a-965f-41.jpg%3Ftype%3Dw450_fst_nce%23450x302\"> </div> </div> <strong class=\"title line_1 _ellipsis\"> 영화 </strong> <div class=\"sub_info\"> <span class=\"info_txt line_1\">지식백과<span class=\"cm_bar\"></span>영화 </span> <p class=\"desc\"> 연속촬영으로 기록한 필름상의 화상을 스크린에 투영, 움직임 있는 영상과 소리를 통해서 보여주는 영상물</p> </div> </a> <a nocr onclick=\"return goOtherCR(this, 'a=nco_xgp*1.dic&r=1&i=8814cc97_000000000b17014a3d2bbf01&u=' + urlencode(this.href));\" href=\"?where=nexearch&sm=tab_clk.sym&mra=bjVI^S0NE&x_csa=%7B%22theme%22%3A%22%22%2C%22ptn%22%3A%22osolution_top%22%2C%22pkid%22%3A%22%22%2C%22osid%22%3A%2200167717%22%2C%22skipOsid%22%3A%22%22%2C%22research%22%3A%220%22%2C%22oOs%22%3A%2234066085%22%2C%22topic%22%3A%22%EC%A7%80%EC%8B%9D%EB%B0%B1%EA%B3%BC%22%7D&qvt=0&query=%EC%98%81%ED%99%94%20%EA%B5%AC%EC%86%8D&x_bifrost=%7B%22theme%22%3A%22%22%2C%22group2_id%22%3A%2200167717%22%7D\" class=\"info_box\"> <strong class=\"title line_1 _ellipsis\"> 영화 </strong> <div class=\"sub_info\"> <span class=\"info_txt line_1\">지식백과<span class=\"cm_bar\"></span>종교 </span> <p class=\"desc\"> 구속의 현실적 적용의 최종 단계</p> </div> </a> <a nocr onclick=\"return goOtherCR(this, 'a=nco_xgp*1.dic&r=1&i=0800058A_00000000a946&u=' + urlencode(this.href));\" href=\"?where=nexearch&sm=tab_clk.sym&mra=bjVI^S0NE&x_csa=%7B%22theme%22%3A%22%22%2C%22ptn%22%3A%22osolution_top%22%2C%22pkid%22%3A%22%22%2C%22osid%22%3A%2200136184%22%2C%22skipOsid%22%3A%22%22%2C%22research%22%3A%220%22%2C%22oOs%22%3A%2234066085%22%2C%22topic%22%3A%22%EC%A7%80%EC%8B%9D%EB%B0%B1%EA%B3%BC%22%7D&qvt=0&query=%EC%98%81%ED%99%94%20%EA%BD%83&x_bifrost=%7B%22theme%22%3A%22%22%2C%22group2_id%22%3A%2200136184%22%7D\" class=\"info_box\"> <strong class=\"title line_1 _ellipsis\"> 영화 </strong> <div class=\"sub_info\"> <span class=\"info_txt line_1\">지식백과<span class=\"cm_bar\"></span>생명과학 </span> <p class=\"desc\"> 포에 눈꽃이 싸여 이룬 꽃</p> </div> </a> </div> </div> </div> <script>(function(){var jsEllipsisUrl=\"https://ssl.pstatic.net/sstatic/au/module/ellipsis/ellipsis-5.1.0.min.js\";var jsButtonScrollerUrl=\"https://ssl.pstatic.net/sstatic/fe/sfe/lapin-plus/button-scroller/index-0.1.1.js\";var jsConveyerUrl=\"https://ssl.pstatic.net/sstatic/fe/egjs-experiment/conveyer/conveyer.min-0.0.1.js\";var jsConveyerPolyfillsUrl=\"https://ssl.pstatic.net/sstatic/fe/sfe/same-different/conveyer-polyfills_211222.js\";var startApplication=function(){var require=window.require.config({\"context\":\"nco_xgp\",\"paths\":{\"ellipsis\":jsEllipsisUrl.replace(/\\.js$/,\"\"),\"@lapin-plus/button-scroller\":jsButtonScrollerUrl.replace(/\\.js$/,\"\"),\"Conveyer\":jsConveyerUrl.replace(/\\.js$/,\"\"),\"ConveyerPolyfills\":jsConveyerPolyfillsUrl.replace(/\\.js$/,\"\")}});define(\"jquery\",[],function(){return jQuery;});require([\"jquery\",\"ellipsis\",\"@lapin-plus/button-scroller\",\"Conveyer\",\"ConveyerPolyfills\"],function($,ellipsis,createButtonScroller,Conveyer){var $base=$(\"._kgs_same_different\");var $ellipsisItems=$base.find(\"._ellipsis\");$ellipsisItems.each(function(index,ellipsisEl){ellipsis.work(ellipsisEl);});var $scrollMover=$base.find(\"._scroll_mover\");var $conveyer=$base.find(\"._conveyer\");$scrollMover.length>0&&createButtonScroller({\"el\":$scrollMover.get(0),\"scrollSelector\":\"._conveyer\",\"attachScrollWhenInit\":true});$conveyer.length>0&&new Conveyer($conveyer.get(0),{\"preventDefault\":true,\"preventClickOnDrag\":true}).start();});};var requirejs=\"https://ssl.pstatic.net/sstatic/au/module/requirejs/require-2.3.5.js\";nhn.common.load_js(window.require?null:requirejs,startApplication,true,150);})();</script> <script>(function(){var jsEllipsisUrl=\"https://ssl.pstatic.net/sstatic/au/module/ellipsis/ellipsis-5.1.0.min.js\";var startApplication=function(){var require=window.require.config({\"context\":\"nco_xgp\",\"paths\":{\"ellipsis\":jsEllipsisUrl.replace(/\\.js$/,\"\")}});define(\"jquery\",[],function(){return jQuery;});require([\"jquery\",\"ellipsis\"],function($,ellipsis){var $base=$(\"._kgs_same_different\");var $ellipsisItems=$base.find(\"._ellipsis\");$ellipsisItems.each(function(index,ellipsisEl){ellipsis.work(ellipsisEl);});});};var requirejs=\"https://ssl.pstatic.net/sstatic/au/module/requirejs/require-2.3.5.js\";nhn.common.load_js(window.require?null:requirejs,startApplication,true,150);})();</script> </div> </div> </div> </div> </section>  <div class=\"_scrollLog\" data-slog-id=\"nco_xgp*1\" style=\"visibility:hidden;height:0px;margin:0 28px\"></div><link rel=\"stylesheet\" type=\"text/css\" href=\"https://ssl.pstatic.net/sstatic/fe/fender/client/8804a4b916ca27c5196c/index.css\" /><div id=\"fdr-4b5e07c5e0fe44769c2caeab7487449a\" data-fender-root data-block-id=\"\" data-slog-container=\"ugN_gnC\" class=\"sc_new _slog_visible\"><div class=\"NynZ0UWXsDOx9tRJHcQg desktop_mode api_subject_bx\"><div class=\"fds-collection-root D1LBvY2e8wjQ7CXzSwLa\"><div class=\"jg6M59k0F_3ZWu3T_yjD\"><div class=\"jb3oT8npBM3sMHKGBe1Q\"><div class=\"y2drTA2SvPqBq_Te_2rc\"><span class=\"fds-comps-header-headline Q1IHZg5jGcHwK32ErglP\">영화 인기주제</span></div></div></div><div class=\"fds-ugc-body-desktop fds-ugc-body-popular-topic D1LBvY2e8wjQ7CXzSwLa\"><div data-fender-scroller=\"true\" data-log-innerscroll=\"a=ugN_gnC*0.flk\" class=\"fds-ugc-body-popular-topic-scroller\"><div class=\"fds-ugc-body-popular-topic-row\"><a nocr=\"1\" href=\"https://s.search.naver.com/p/intentblock/34/search.naver?ac=0&amp;aq=0&amp;bid=SYS-0000000033743369&amp;display=10&amp;lgl_lat=37.570415&amp;lgl_long=126.979683&amp;lgl_rcode=09110126&amp;ngn_country=KR&amp;nlu_query=%7B%22nquery%22%3A%22%EC%98%81%ED%99%94%22%7D&amp;query=%EC%98%81%ED%99%94&amp;ssc=tab.itb.all&amp;start=1&amp;where=nx_bridge\" class=\"yz1I0On180p7Dx1HGomQ u2garcdzJ2P4Oy_Ja3la fds-comps-keyword-chip fds-modules-keyword-chip\" target=\"_blank\"><span class=\"XhV97JJfm3UScE5VCRI7 TV_5mXcwR9SOhIWdbHn1 hFzusHocRYOmG6pL0kE4 tDyp0boO7PgFpRLbhJEt fds-comps-keyword-chip-image-wrap\" style=\"--fds-comp-image-size-width:32px\"><img width=\"32\" height=\"32\" class=\"PMHcWGJGpvxqjQV9JK2h fds-comps-keyword-chip-image TV_5mXcwR9SOhIWdbHn1\" alt=\"chip image\" src=\"data:image/gif;base64,R0lGODlhAQABAIAAAAAAAP///yH5BAEAAAAALAAAAAABAAEAAAIBRAA7\"/></span><span class=\"pK9Zy4I52wngqqt76G01 fds-comps-keyword-chip-text Q1IHZg5jGcHwK32ErglP\">넷플릭스 영화순위</span></a><a nocr=\"1\" href=\"https://s.search.naver.com/p/intentblock/34/search.naver?ac=0&amp;aq=0&amp;bid=SYS-0000000033532225&amp;display=10&amp;lgl_lat=37.570415&amp;lgl_long=126.979683&amp;lgl_rcode=09110126&amp;ngn_country=KR&amp;nlu_query=%7B%22nquery%22%3A%22%EC%98%81%ED%99%94%22%7D&amp;query=%EC%98%81%ED%99%94&amp;ssc=tab.itb.all&amp;start=1&amp;where=nx_bridge\" class=\"yz1I0On180p7Dx1HGomQ u2garcdzJ2P4Oy_Ja3la fds-comps-keyword-chip fds-modules-keyword-chip\" target=\"_blank\"><span class=\"XhV97JJfm3UScE5VCRI7 TV_5mXcwR9SOhIWdbHn1 hFzusHocRYOmG6pL0kE4 tDyp0boO7PgFpRLbhJEt fds-comps-keyword-chip-image-wrap\" style=\"--fds-comp-image-size-width:32px\"><img width=\"32\" height=\"32\" class=\"PMHcWGJGpvxqjQV9JK2h fds-comps-keyword-chip-image TV_5mXcwR9SOhIWdbHn1\" alt=\"chip image\" src=\"data:image/gif;base64,R0lGODlhAQABAIAAAAAAAP///yH5BAEAAAAALAAAAAABAAEAAAIBRAA7\"/></span><span class=\"pK9Zy4I52wngqqt76G01 fds-comps-keyword-chip-text Q1IHZg5jGcHwK32ErglP\">영화 추천</span></a></div><div class=\"fds-ugc-body-popular-topic-row\"><a nocr=\"1\" href=\"https://s.search.naver.com/p/intentblock/34/search.naver?ac=0&amp;aq=0&amp;bid=SYS-0000000035590670&amp;display=10&amp;lgl_lat=37.570415&amp;lgl_long=126.979683&amp;lgl_rcode=09110126&amp;ngn_country=KR&amp;nlu_query=%7B%22nquery%22%3A%22%EC%98%81%ED%99%94%22%7D&amp;query=%EC%98%81%ED%99%94&amp;ssc=tab.itb.all&amp;start=1&amp;where=nx_bridge\" class=\"yz1I0On180p7Dx1HGomQ u2garcdzJ2P4Oy_Ja3la fds-comps-keyword-chip fds-modules-keyword-chip\" target=\"_blank\"><span class=\"XhV97JJfm3UScE5VCRI7 TV_5mXcwR9SOhIWdbHn1 hFzusHocRYOmG6pL0kE4 tDyp0boO7PgFpRLbhJEt fds-comps-keyword-chip-image-wrap\" style=\"--fds-comp-image-size-width:32px\"><img width=\"32\" height=\"32\" class=\"PMHcWGJGpvxqjQV9JK2h fds-comps-keyword-chip-image TV_5mXcwR9SOhIWdbHn1\" alt=\"chip image\" src=\"data:image/gif;base64,R0lGODlhAQABAIAAAAAAAP///yH5BAEAAAAALAAAAAABAAEAAAIBRAA7\"/></span><span class=\"pK9Zy4I52wngqqt76G01 fds-comps-keyword-chip-text Q1IHZg5jGcHwK32ErglP\">인기 카페글</span></a><a nocr=\"1\" href=\"https://s.search.naver.com/p/intentblock/34/search.naver?ac=0&amp;aq=0&amp;bid=SYS-0000000038628880&amp;display=10&amp;lgl_lat=37.570415&amp;lgl_long=126.979683&amp;lgl_rcode=09110126&amp;ngn_country=KR&amp;nlu_query=%7B%22nquery%22%3A%22%EC%98%81%ED%99%94%22%7D&amp;query=%EC%98%81%ED%99%94&amp;ssc=tab.itb.all&amp;start=1&amp;where=nx_bridge\" class=\"yz1I0On180p7Dx1HGomQ u2garcdzJ2P4Oy_Ja3la fds-comps-keyword-chip fds-modules-keyword-chip\" target=\"_blank\"><span class=\"XhV97JJfm3UScE5VCRI7 TV_5mXcwR9SOhIWdbHn1 hFzusHocRYOmG6pL0kE4 tDyp0boO7PgFpRLbhJEt fds-comps-keyword-chip-image-wrap\" style=\"--fds-comp-image-size-width:32px\"><img width=\"32\" height=\"32\" class=\"PMHcWGJGpvxqjQV9JK2h fds-comps-keyword-chip-image TV_5mXcwR9SOhIWdbHn1\" alt=\"chip image\" src=\"data:image/gif;base64,R0lGODlhAQABAIAAAAAAAP///yH5BAEAAAAALAAAAAABAAEAAAIBRAA7\"/></span><span class=\"pK9Zy4I52wngqqt76G01 fds-comps-keyword-chip-text Q1IHZg5jGcHwK32ErglP\">로맨스 영화</span></a></div></div><div role=\"button\" class=\"fds-ugc-body-popular-topic-btn-prev katnMk7Po8TARCQ6HdHj mMszZX3AD40tq5mzLsBS w55h4CVUCwaHyvUxlgVT\" style=\"display:none\"><svg xmlns=\"http://www.w3.org/2000/svg\" viewBox=\"0 0.5 36 36\" class=\"k3D3aHNzPdISV4OuzwPy P26DzdqErYphNwQhloh2 Mk3NGX3ipvYPfHJamsW0\" width=\"36\" height=\"36\" fill=\"none\" aria-hidden=\"true\"><circle class=\"jKLgUGy2EQbfrejVrMIg\" cx=\"18\" cy=\"18.5\" r=\"17.5\"></circle></svg><svg xmlns=\"http://www.w3.org/2000/svg\" viewBox=\"0.5 0.5 8 12\" class=\"k3D3aHNzPdISV4OuzwPy FUHPGuzkFhG3x8yQwmcc yB6Nihhr2IgyndiaY6cf\" width=\"8\" height=\"12\" fill=\"none\" aria-hidden=\"true\"><path class=\"emmVULsZs56IJPbPIOIS\" d=\"M7 1.5L2 6.5L7 11.5\" stroke-width=\"1.5\"></path></svg></div><div role=\"button\" class=\"fds-ugc-body-popular-topic-btn-next katnMk7Po8TARCQ6HdHj mMszZX3AD40tq5mzLsBS cvOXwHMYpIPvG9hhG8kQ\"><svg xmlns=\"http://www.w3.org/2000/svg\" viewBox=\"0 0.5 36 36\" class=\"k3D3aHNzPdISV4OuzwPy P26DzdqErYphNwQhloh2 Mk3NGX3ipvYPfHJamsW0\" width=\"36\" height=\"36\" fill=\"none\" aria-hidden=\"true\"><circle class=\"jKLgUGy2EQbfrejVrMIg\" cx=\"18\" cy=\"18.5\" r=\"17.5\"></circle></svg><svg xmlns=\"http://www.w3.org/2000/svg\" viewBox=\"0.5 0.5 8 12\" class=\"k3D3aHNzPdISV4OuzwPy FUHPGuzkFhG3x8yQwmcc yB6Nihhr2IgyndiaY6cf\" width=\"8\" height=\"12\" fill=\"none\" aria-hidden=\"true\"><path class=\"emmVULsZs56IJPbPIOIS\" d=\"M2 1.5L7 6.5L2 11.5\" stroke-width=\"1.5\"></path></svg></div></div></div></div></div><script>(function () { var startApplication = function () { var require = window.require.config({ \"context\": \"fender_renderer\", }); define(\"jquery\", [], function () { return jQuery; }); require([\"https://ssl.pstatic.net/sstatic/fe/fender/client/8804a4b916ca27c5196c/index.js\"], function (entry) { entry.bootstrap(document.getElementById(\"fdr-4b5e07c5e0fe44769c2caeab7487449a\"), {\"appElementAttrs\":{\"data-slog-container\":\"ugN_gnC\",\"class\":\"sc_new _slog_visible\"},\"rootElementAttrs\":{\"className\":\"api_subject_bx\"},\"meta\":{\"area\":\"ugN_gnC\",\"ssc\":\"tab.nx.all\",\"ssuid\":\"intentblock\",\"ftype\":\"m\",\"where\":\"m\",\"nscs\":\"0\",\"query\":\"영화\"},\"data\":{\"component\":\"BaseLayout\",\"props\":{\"className\":\"fds-collection-root\",\"children\":[{\"component\":\"Header\",\"props\":{\"children\":[{\"component\":\"Text\",\"props\":{\"className\":\"fds-comps-header-headline\",\"content\":\"영화 인기주제\"}}]}},{\"component\":\"BaseLayout\",\"props\":{\"className\":\"fds-ugc-body-desktop fds-ugc-body-popular-topic\",\"children\":[{\"component\":\"UgcPopularTopicContainer\",\"props\":{\"className\":\"fds-ugc-body-popular-topic-scroller\",\"children\":[{\"component\":\"KeywordChip\",\"props\":{\"cr\":{\"source\":\"*0\",\"element\":\".block\",\"r\":1,\"i\":\"SYS-0000000033743369\",\"g\":\"%7B%22bid%22%3A%22SYS-0000000033743369%22%2C%22docRank%22%3A1%7D\",\"area\":\"\"},\"className\":\"fds-modules-keyword-chip\",\"href\":\"https://s.search.naver.com/p/intentblock/34/search.naver?ac=0&aq=0&bid=SYS-0000000033743369&display=10&lgl_lat=37.570415&lgl_long=126.979683&lgl_rcode=09110126&ngn_country=KR&nlu_query=%7B%22nquery%22%3A%22%EC%98%81%ED%99%94%22%7D&query=%EC%98%81%ED%99%94&ssc=tab.itb.all&start=1&where=nx_bridge\",\"target\":\"_blank\",\"image\":{\"src\":\"https://search.pstatic.net/common/?src=https%3A%2F%2Fmblogthumb-phinf.pstatic.net%2FMjAyNDA1MDdfMjUw%2FMDAxNzE1MDczMTg2MTQ4.ShEtOt4UKmhpFkXzCeKe3qu6ReDQlsrPkdkZNJrsBfQg.bGycYniiUFuS05jDx6_L4pRNAKjHiwb_Xp6wzxkphlAg.JPEG%2FIMG_6247.JPG%3Ftype%3Dw800&type=f80_80\",\"alt\":\"chip image\"},\"text\":{\"content\":\"넷플릭스 영화순위\"}}},{\"component\":\"KeywordChip\",\"props\":{\"cr\":{\"source\":\"*0\",\"element\":\".block\",\"r\":2,\"i\":\"SYS-0000000035590670\",\"g\":\"%7B%22bid%22%3A%22SYS-0000000035590670%22%2C%22docRank%22%3A2%7D\",\"area\":\"\"},\"className\":\"fds-modules-keyword-chip\",\"href\":\"https://s.search.naver.com/p/intentblock/34/search.naver?ac=0&aq=0&bid=SYS-0000000035590670&display=10&lgl_lat=37.570415&lgl_long=126.979683&lgl_rcode=09110126&ngn_country=KR&nlu_query=%7B%22nquery%22%3A%22%EC%98%81%ED%99%94%22%7D&query=%EC%98%81%ED%99%94&ssc=tab.itb.all&start=1&where=nx_bridge\",\"target\":\"_blank\",\"image\":{\"src\":\"https://search.pstatic.net/common/?src=http%3A%2F%2Fcafefiles.naver.net%2FMjAyNDA1MThfMTU0%2FMDAxNzE2MDIyMjcyMjE2.7dnPqhaWsI190FFh7DBKJwLV8unaJTQBTl3f6QH5YYEg.KmLD2UjnVzKIW7IPZjF5NbevnbKkjMmmsSVJXMnFFjog.JPEG%2F20240518%EF%BC%BF144342.jpg%234000x3000&type=f80_80\",\"alt\":\"chip image\"},\"text\":{\"content\":\"인기 카페글\"}}},{\"component\":\"KeywordChip\",\"props\":{\"cr\":{\"source\":\"*0\",\"element\":\".block\",\"r\":3,\"i\":\"SYS-0000000033532225\",\"g\":\"%7B%22bid%22%3A%22SYS-0000000033532225%22%2C%22docRank%22%3A3%7D\",\"area\":\"\"},\"className\":\"fds-modules-keyword-chip\",\"href\":\"https://s.search.naver.com/p/intentblock/34/search.naver?ac=0&aq=0&bid=SYS-0000000033532225&display=10&lgl_lat=37.570415&lgl_long=126.979683&lgl_rcode=09110126&ngn_country=KR&nlu_query=%7B%22nquery%22%3A%22%EC%98%81%ED%99%94%22%7D&query=%EC%98%81%ED%99%94&ssc=tab.itb.all&start=1&where=nx_bridge\",\"target\":\"_blank\",\"image\":{\"src\":\"https://search.pstatic.net/common/?src=http%3A%2F%2Fblogfiles.naver.net%2FMjAyNDA1MTdfMjU2%2FMDAxNzE1ODk1MTkzOTIz.jgsak5nXceWEZLPXCPNHfmp9Wk6vrcyCeXHX0N4rgRcg.eASxRyaCoFKv2MF--jpY53vusi0aXdTEagn_72SDhTMg.JPEG%2Fcommon.jpg%23892x892&type=f80_80\",\"alt\":\"chip image\"},\"text\":{\"content\":\"영화 추천\"}}},{\"component\":\"KeywordChip\",\"props\":{\"cr\":{\"source\":\"*0\",\"element\":\".block\",\"r\":4,\"i\":\"SYS-0000000038628880\",\"g\":\"%7B%22bid%22%3A%22SYS-0000000038628880%22%2C%22docRank%22%3A4%7D\",\"area\":\"\"},\"className\":\"fds-modules-keyword-chip\",\"href\":\"https://s.search.naver.com/p/intentblock/34/search.naver?ac=0&aq=0&bid=SYS-0000000038628880&display=10&lgl_lat=37.570415&lgl_long=126.979683&lgl_rcode=09110126&ngn_country=KR&nlu_query=%7B%22nquery%22%3A%22%EC%98%81%ED%99%94%22%7D&query=%EC%98%81%ED%99%94&ssc=tab.itb.all&start=1&where=nx_bridge\",\"target\":\"_blank\",\"image\":{\"src\":\"https://search.pstatic.net/common/?src=https%3A%2F%2Fmblogthumb-phinf.pstatic.net%2FMjAyNDA1MTBfMjE0%2FMDAxNzE1Mjk0ODcwNjg5.vPnppfIGFLBUIUtEOqrnW_Nd2IMM8SZsxTJI2lxhVG8g.nHtJwaAZJExa5BrKeJ3FYniDsLBJqoHDQ_MI8Xqdd_Yg.JPEG%2F20240510%25A3%25DF074738.jpg%3Ftype%3Dw800&type=f80_80\",\"alt\":\"chip image\"},\"text\":{\"content\":\"로맨스 영화\"}}},{\"component\":\"KeywordChip\",\"props\":{\"cr\":{\"source\":\"*0\",\"element\":\".block\",\"r\":5,\"i\":\"SYS-0000000045188383\",\"g\":\"%7B%22bid%22%3A%22SYS-0000000045188383%22%2C%22docRank%22%3A5%7D\",\"area\":\"\"},\"className\":\"fds-modules-keyword-chip\",\"href\":\"https://s.search.naver.com/p/intentblock/34/search.naver?ac=0&aq=0&bid=SYS-0000000045188383&display=10&lgl_lat=37.570415&lgl_long=126.979683&lgl_rcode=09110126&ngn_country=KR&nlu_query=%7B%22nquery%22%3A%22%EC%98%81%ED%99%94%22%7D&query=%EC%98%81%ED%99%94&ssc=tab.itb.all&start=1&where=nx_bridge\",\"target\":\"_blank\",\"image\":{\"src\":\"https://search.pstatic.net/common/?src=http%3A%2F%2Fblogfiles.naver.net%2FMjAyNDA1MTZfNDcg%2FMDAxNzE1Nzg4NTY2NTQ5.gTwOaIeNPpgqWYu_tvRLe3Rj4PbYEezutt0eupGaXvog.OqNuELHvQCXA5nl18-Hwu2qCdoqhkongNoZUWNGhqvwg.JPEG%2FAKR20240510157000005_01_i_P4.jpg%231080x1080&type=f80_80\",\"alt\":\"chip image\"},\"text\":{\"content\":\"천만영화\"}}},{\"component\":\"KeywordChip\",\"props\":{\"cr\":{\"source\":\"*0\",\"element\":\".block\",\"r\":6,\"i\":\"SYS-0000000037677811\",\"g\":\"%7B%22bid%22%3A%22SYS-0000000037677811%22%2C%22docRank%22%3A6%7D\",\"area\":\"\"},\"className\":\"fds-modules-keyword-chip\",\"href\":\"https://s.search.naver.com/p/intentblock/34/search.naver?ac=0&aq=0&bid=SYS-0000000037677811&display=10&lgl_lat=37.570415&lgl_long=126.979683&lgl_rcode=09110126&ngn_country=KR&nlu_query=%7B%22nquery%22%3A%22%EC%98%81%ED%99%94%22%7D&query=%EC%98%81%ED%99%94&ssc=tab.itb.all&start=1&where=nx_bridge\",\"target\":\"_blank\",\"image\":{\"src\":\"https://search.pstatic.net/common/?src=https%3A%2F%2Fmblogthumb-phinf.pstatic.net%2FMjAyNDA0MjNfMjU5%2FMDAxNzEzODcwMTgyMjg4.0GhIpVLB6HO5KH-v37_GWuCt7MafOd9UzLJ1cDbcwb8g.js7YeB9d05uXI29BUQBv3s7v5_a2SzwWxsNkIZSLRZUg.JPEG%2F30.jpg%3Ftype%3Dw800&type=f80_80\",\"alt\":\"chip image\"},\"text\":{\"content\":\"실화 영화\"}}},{\"component\":\"KeywordChip\",\"props\":{\"cr\":{\"source\":\"*0\",\"element\":\".block\",\"r\":7,\"i\":\"SYS-0000000037456315\",\"g\":\"%7B%22bid%22%3A%22SYS-0000000037456315%22%2C%22docRank%22%3A7%7D\",\"area\":\"\"},\"className\":\"fds-modules-keyword-chip\",\"href\":\"https://s.search.naver.com/p/intentblock/34/search.naver?ac=0&aq=0&bid=SYS-0000000037456315&display=10&lgl_lat=37.570415&lgl_long=126.979683&lgl_rcode=09110126&ngn_country=KR&nlu_query=%7B%22nquery%22%3A%22%EC%98%81%ED%99%94%22%7D&query=%EC%98%81%ED%99%94&ssc=tab.itb.all&start=1&where=nx_bridge\",\"target\":\"_blank\",\"image\":{\"src\":\"https://search.pstatic.net/common/?src=http%3A%2F%2Fblogfiles.naver.net%2FMjAyNDAyMTFfNCAg%2FMDAxNzA3NTc5NzIyNjM5.r0BH4pVoq7ybQnzc6cLxI0mfmpxa0FsTT5HP30CxnCAg.x9P5W1V9wOMj7xz6a-NOVOi6w-GLD6kIDJjW2ZZ-rkIg.JPEG.b117711%2F%25BD%25C3%25BD%25BA%25C5%25CD%25BE%25D7%25C6%25AE2_%252827%2529.jpg%231180x1180&type=f80_80\",\"alt\":\"chip image\"},\"text\":{\"content\":\"코미디 영화\"}}},{\"component\":\"KeywordChip\",\"props\":{\"cr\":{\"source\":\"*0\",\"element\":\".block\",\"r\":8,\"i\":\"SYS-0000000000717407\",\"g\":\"%7B%22bid%22%3A%22SYS-0000000000717407%22%2C%22docRank%22%3A8%7D\",\"area\":\"\"},\"className\":\"fds-modules-keyword-chip\",\"href\":\"https://s.search.naver.com/p/intentblock/34/search.naver?ac=0&aq=0&bid=SYS-0000000000717407&display=10&lgl_lat=37.570415&lgl_long=126.979683&lgl_rcode=09110126&ngn_country=KR&nlu_query=%7B%22nquery%22%3A%22%EC%98%81%ED%99%94%22%7D&query=%EC%98%81%ED%99%94&ssc=tab.itb.all&start=1&where=nx_bridge\",\"target\":\"_blank\",\"image\":{\"src\":\"https://search.pstatic.net/common/?src=http%3A%2F%2Fblogfiles.naver.net%2FMjAyNDA1MTFfMTYg%2FMDAxNzE1NDI3NTUxNDU3.DVtzW2MurviAs57N_wgZg-x8Mke_fcPn9XzkUXOYmIAg.cCPtzTF5dRtvtas2S-vEj3FReIj93txUPSAe9bUjV3wg.GIF%2F00.gif%23500x500%23g&type=f80_80\",\"alt\":\"chip image\"},\"text\":{\"content\":\"인기글\"}}},{\"component\":\"KeywordChip\",\"props\":{\"cr\":{\"source\":\"*0\",\"element\":\".block\",\"r\":9,\"i\":\"SYS-0000000033441704\",\"g\":\"%7B%22bid%22%3A%22SYS-0000000033441704%22%2C%22docRank%22%3A9%7D\",\"area\":\"\"},\"className\":\"fds-modules-keyword-chip\",\"href\":\"https://s.search.naver.com/p/intentblock/34/search.naver?ac=0&aq=0&bid=SYS-0000000033441704&display=10&lgl_lat=37.570415&lgl_long=126.979683&lgl_rcode=09110126&ngn_country=KR&nlu_query=%7B%22nquery%22%3A%22%EC%98%81%ED%99%94%22%7D&query=%EC%98%81%ED%99%94&ssc=tab.itb.all&start=1&where=nx_bridge\",\"target\":\"_blank\",\"image\":{\"src\":\"https://search.pstatic.net/common/?src=https%3A%2F%2Fmblogthumb-phinf.pstatic.net%2FMjAyNDA1MDNfMjYy%2FMDAxNzE0NzMxNjIzMTI4.0hLlHi9a93mnPtM4-ECjsX27lO_z6jhMxH-lwOA-AR8g.r1EHloEUwcsIdfcaxKxxqnR-4OdX98dYhIpU3kSt6tIg.JPEG%2F%25B3%25DD%25C7%25C3%25B8%25AF%25BD%25BA_%25BF%25B5%25C8%25AD_%25BC%25F8%25C0%25A7_%25BF%25E4%25C1%25F2_%25BA%25BC%25B8%25B8%25C7%25D1_%25BF%25B5%25C8%25AD_%25C3%25DF%25C3%25B5_TOP_5_9.jpg%3Ftype%3Dw800&type=f80_80\",\"alt\":\"chip image\"},\"text\":{\"content\":\"요즘 볼만한 영화\"}}},{\"component\":\"KeywordChip\",\"props\":{\"cr\":{\"source\":\"*0\",\"element\":\".block\",\"r\":10,\"i\":\"SYS-0000000001659719\",\"g\":\"%7B%22bid%22%3A%22SYS-0000000001659719%22%2C%22docRank%22%3A10%7D\",\"area\":\"\"},\"className\":\"fds-modules-keyword-chip\",\"href\":\"https://s.search.naver.com/p/intentblock/34/search.naver?ac=0&aq=0&bid=SYS-0000000001659719&display=10&lgl_lat=37.570415&lgl_long=126.979683&lgl_rcode=09110126&ngn_country=KR&nlu_query=%7B%22nquery%22%3A%22%EC%98%81%ED%99%94%22%7D&query=%EC%98%81%ED%99%94&ssc=tab.itb.all&start=1&where=nx_bridge\",\"target\":\"_blank\",\"image\":{\"src\":\"https://search.pstatic.net/common/?src=http%3A%2F%2Fblogfiles.naver.net%2FMjAyNDA1MTRfNDMg%2FMDAxNzE1NjY5NTQ2NjMx.dcTd3IwS8zFQGxdUMdKcMNqsmZ-wYPtS-MAZfu6-z7cg.ylectaYRKJta2zEGKKLC-u1WvKbvmFMBvtvnDPp4ZKcg.PNG%2Fimage.png%23730x730&type=f80_80\",\"alt\":\"chip image\"},\"text\":{\"content\":\"스릴러 영화\"}}},{\"component\":\"KeywordChip\",\"props\":{\"cr\":{\"source\":\"*0\",\"element\":\".block\",\"r\":11,\"i\":\"SYS-0000000045306381\",\"g\":\"%7B%22bid%22%3A%22SYS-0000000045306381%22%2C%22docRank%22%3A11%7D\",\"area\":\"\"},\"className\":\"fds-modules-keyword-chip\",\"href\":\"https://s.search.naver.com/p/intentblock/34/search.naver?ac=0&aq=0&bid=SYS-0000000045306381&display=10&lgl_lat=37.570415&lgl_long=126.979683&lgl_rcode=09110126&ngn_country=KR&nlu_query=%7B%22nquery%22%3A%22%EC%98%81%ED%99%94%22%7D&query=%EC%98%81%ED%99%94&ssc=tab.itb.all&start=1&where=nx_bridge\",\"target\":\"_blank\",\"image\":{\"src\":\"https://search.pstatic.net/common/?src=http%3A%2F%2Fblogfiles.naver.net%2FMjAyNDA0MjhfMjg1%2FMDAxNzE0MjkzODAxMDA1.uo72t1iWVi7uZ1dQ7qWMrmHbxb9nJGUdJ1CTc84cvsAg.ZvuQ17pd5dRlre0g3bggZ7ifTTcPBojQm1fy_dDIG2Qg.JPEG%2FIMG_1927.jpg%23900x1353&type=f80_80\",\"alt\":\"chip image\"},\"text\":{\"content\":\"중국영화\"}}},{\"component\":\"KeywordChip\",\"props\":{\"cr\":{\"source\":\"*0\",\"element\":\".block\",\"r\":12,\"i\":\"SYS-0000000036737839\",\"g\":\"%7B%22bid%22%3A%22SYS-0000000036737839%22%2C%22docRank%22%3A12%7D\",\"area\":\"\"},\"className\":\"fds-modules-keyword-chip\",\"href\":\"https://s.search.naver.com/p/intentblock/34/search.naver?ac=0&aq=0&bid=SYS-0000000036737839&display=10&lgl_lat=37.570415&lgl_long=126.979683&lgl_rcode=09110126&ngn_country=KR&nlu_query=%7B%22nquery%22%3A%22%EC%98%81%ED%99%94%22%7D&query=%EC%98%81%ED%99%94&ssc=tab.itb.all&start=1&where=nx_bridge\",\"target\":\"_blank\",\"image\":{\"src\":\"https://search.pstatic.net/common/?src=https%3A%2F%2Fmblogthumb-phinf.pstatic.net%2FMjAyNDA0MTRfMjg1%2FMDAxNzEzMDcyNTY0OTY2.ayDzLv2Gkev4Adk4Jv2mGs2m8RNvIQ1PGbIrYEhTbsgg.MoYES86nMxEDd6UVBn5YyA-rLDFAxW1hqOE5Eysv-Akg.JPEG%2F%25B3%25DD%25C7%25C3%25B8%25AF%25BD%25BA%25B0%25A1%25C1%25B7%25BF%25B5%25C8%25AD%25C3%25DF%25C3%25B5_%25281%2529.jpg%3Ftype%3Dw800&type=f80_80\",\"alt\":\"chip image\"},\"text\":{\"content\":\"어린이 영화\"}}},{\"component\":\"KeywordChip\",\"props\":{\"cr\":{\"source\":\"*0\",\"element\":\".block\",\"r\":13,\"i\":\"SYS-0000000025468055\",\"g\":\"%7B%22bid%22%3A%22SYS-0000000025468055%22%2C%22docRank%22%3A13%7D\",\"area\":\"\"},\"className\":\"fds-modules-keyword-chip\",\"href\":\"https://s.search.naver.com/p/intentblock/34/search.naver?ac=0&aq=0&bid=SYS-0000000025468055&display=10&lgl_lat=37.570415&lgl_long=126.979683&lgl_rcode=09110126&ngn_country=KR&nlu_query=%7B%22nquery%22%3A%22%EC%98%81%ED%99%94%22%7D&query=%EC%98%81%ED%99%94&ssc=tab.itb.all&start=1&where=nx_bridge\",\"target\":\"_blank\",\"image\":{\"src\":\"https://search.pstatic.net/common/?src=http%3A%2F%2Fblogfiles.naver.net%2FMjAyNDA1MDlfMjI5%2FMDAxNzE1MjI3Mjk2NDcw.FXqN8--1c9r3plS96kiH_sQP4SdO4rJk6Ojfnx_UZxsg.LZa-P0PK7Qtuu9HOK1m5sN631YCmFqHFtK_61-5VYXYg.PNG%2Fimage.png%23730x730&type=f80_80\",\"alt\":\"chip image\"},\"text\":{\"content\":\"영화 평점\"}}},{\"component\":\"KeywordChip\",\"props\":{\"cr\":{\"source\":\"*0\",\"element\":\".block\",\"r\":14,\"i\":\"SYS-0000000036810839\",\"g\":\"%7B%22bid%22%3A%22SYS-0000000036810839%22%2C%22docRank%22%3A14%7D\",\"area\":\"\"},\"className\":\"fds-modules-keyword-chip\",\"href\":\"https://s.search.naver.com/p/intentblock/34/search.naver?ac=0&aq=0&bid=SYS-0000000036810839&display=10&lgl_lat=37.570415&lgl_long=126.979683&lgl_rcode=09110126&ngn_country=KR&nlu_query=%7B%22nquery%22%3A%22%EC%98%81%ED%99%94%22%7D&query=%EC%98%81%ED%99%94&ssc=tab.itb.all&start=1&where=nx_bridge\",\"target\":\"_blank\",\"image\":{\"src\":\"https://search.pstatic.net/common/?src=https%3A%2F%2Fmblogthumb-phinf.pstatic.net%2FMjAyNDA0MTdfNTEg%2FMDAxNzEzMzMwNTMyMTI0.qQWPBdsT0TX-J_zr9ZJ0fJbHl5TB93PDJ_x6zpLcTpkg.4QRW4qNY1RIVPYTB5siTIv1OjnIqxQnH-UHyIXsJJ60g.JPEG%2FIMG_5338.JPG%3Ftype%3Dw800&type=f80_80\",\"alt\":\"chip image\"},\"text\":{\"content\":\"공포 영화\"}}},{\"component\":\"KeywordChip\",\"props\":{\"cr\":{\"source\":\"*0\",\"element\":\".block\",\"r\":15,\"i\":\"SYS-0000000036849914\",\"g\":\"%7B%22bid%22%3A%22SYS-0000000036849914%22%2C%22docRank%22%3A15%7D\",\"area\":\"\"},\"className\":\"fds-modules-keyword-chip\",\"href\":\"https://s.search.naver.com/p/intentblock/34/search.naver?ac=0&aq=0&bid=SYS-0000000036849914&display=10&lgl_lat=37.570415&lgl_long=126.979683&lgl_rcode=09110126&ngn_country=KR&nlu_query=%7B%22nquery%22%3A%22%EC%98%81%ED%99%94%22%7D&query=%EC%98%81%ED%99%94&ssc=tab.itb.all&start=1&where=nx_bridge\",\"target\":\"_blank\",\"image\":{\"src\":\"https://search.pstatic.net/common/?src=http%3A%2F%2Fblogfiles.naver.net%2FMjAyNDAzMTRfMjMw%2FMDAxNzEwMzkyMDY5OTE1.pZd_0zj1bBIx0AcothbZRhbJJd8JNnEdxNqa9KZC1g4g.KjHiZxu0IBux-NvQIFjcDONu4KBelZUD56tKet2r5o0g.PNG%2F%25C3%25CA%25B7%25CF%25BB%25F6_%25C5%25D7%25B5%25CE%25B8%25AE_%25B0%25C7%25B0%25AD%25C7%25D1_%25C1%25A1%25BD%25C9_%25C0%25BD%25BD%25C4_%25BB%25E7%25C1%25F8_%25C0%25CE%25BD%25BA%25C5%25B8%25B1%25D7%25B7%25A5_%25B0%25D4%25BD%25C3%25B9%25B0%25A3%25DF20240314%25A3%25DF135350%25A3%25DF0000.png%23900x900&type=f80_80\",\"alt\":\"chip image\"},\"text\":{\"content\":\"영화 OST\"}}},{\"component\":\"KeywordChip\",\"props\":{\"cr\":{\"source\":\"*0\",\"element\":\".block\",\"r\":16,\"i\":\"SYS-0000000037543655\",\"g\":\"%7B%22bid%22%3A%22SYS-0000000037543655%22%2C%22docRank%22%3A16%7D\",\"area\":\"\"},\"className\":\"fds-modules-keyword-chip\",\"href\":\"https://s.search.naver.com/p/intentblock/34/search.naver?ac=0&aq=0&bid=SYS-0000000037543655&display=10&lgl_lat=37.570415&lgl_long=126.979683&lgl_rcode=09110126&ngn_country=KR&nlu_query=%7B%22nquery%22%3A%22%EC%98%81%ED%99%94%22%7D&query=%EC%98%81%ED%99%94&ssc=tab.itb.all&start=1&where=nx_bridge\",\"target\":\"_blank\",\"image\":{\"src\":\"https://search.pstatic.net/common/?src=http%3A%2F%2Fblogfiles.naver.net%2FMjAyNDA1MTVfMjYz%2FMDAxNzE1NzQxMDQ4Nzk4.RqED9WmVc1IikMTFTyefCoxdO3lfT9ifS8k9RKPlyJIg.pZYtvIpcj3Zkz4R_BkmIAezaZ3jN0henBuHIcxI5M8gg.PNG%2F%25C1%25A6%25B8%25F1%25C0%25BB-%25C0%25D4%25B7%25C2%25C7%25D8%25C1%25D6%25BC%25BC%25BF%25E4_-001.png%231080x1080&type=f80_80\",\"alt\":\"chip image\"},\"text\":{\"content\":\"영화의 전당\"}}},{\"component\":\"KeywordChip\",\"props\":{\"cr\":{\"source\":\"*0\",\"element\":\".block\",\"r\":17,\"i\":\"SYS-0000000008303686\",\"g\":\"%7B%22bid%22%3A%22SYS-0000000008303686%22%2C%22docRank%22%3A17%7D\",\"area\":\"\"},\"className\":\"fds-modules-keyword-chip\",\"href\":\"https://s.search.naver.com/p/intentblock/34/search.naver?ac=0&aq=0&bid=SYS-0000000008303686&display=10&lgl_lat=37.570415&lgl_long=126.979683&lgl_rcode=09110126&ngn_country=KR&nlu_query=%7B%22nquery%22%3A%22%EC%98%81%ED%99%94%22%7D&query=%EC%98%81%ED%99%94&ssc=tab.itb.all&start=1&where=nx_bridge\",\"target\":\"_blank\",\"image\":{\"src\":\"https://search.pstatic.net/common/?src=http%3A%2F%2Fblogfiles.naver.net%2FMjAyNDAzMDZfMTQ1%2FMDAxNzA5NjkzNTUzNDU5.-uE0CPLiKjuiuKaEO_1v_HOCBtkT-CjEreQCT5lrlUog.no0fWJ9C8d_VSH3t67-sFj57Se58AlNCvRAh4MAuTK4g.JPEG%2F1705004065%25A3%25ADuntitled%25A3%25AD1.jpg%23900x506&type=f80_80\",\"alt\":\"chip image\"},\"text\":{\"content\":\"넷플 영화\"}}},{\"component\":\"KeywordChip\",\"props\":{\"cr\":{\"source\":\"*0\",\"element\":\".block\",\"r\":18,\"i\":\"SYS-0000000037330331\",\"g\":\"%7B%22bid%22%3A%22SYS-0000000037330331%22%2C%22docRank%22%3A18%7D\",\"area\":\"\"},\"className\":\"fds-modules-keyword-chip\",\"href\":\"https://s.search.naver.com/p/intentblock/34/search.naver?ac=0&aq=0&bid=SYS-0000000037330331&display=10&lgl_lat=37.570415&lgl_long=126.979683&lgl_rcode=09110126&ngn_country=KR&nlu_query=%7B%22nquery%22%3A%22%EC%98%81%ED%99%94%22%7D&query=%EC%98%81%ED%99%94&ssc=tab.itb.all&start=1&where=nx_bridge\",\"target\":\"_blank\",\"image\":{\"src\":\"https://search.pstatic.net/common/?src=http%3A%2F%2Fblogfiles.naver.net%2FMjAyNDA1MThfNTgg%2FMDAxNzE2MDA4MTE3NTAz.XF_ymcZNX3_FILdr9GuvIgWrwOR_DY0VLJqcrFa04d4g.SjOYw8losC_jY2xTNK5v57LwDT_0r3OvKpaAXD0z368g.JPEG%2FIMG_9644.jpg%23900x676&type=f80_80\",\"alt\":\"chip image\"},\"text\":{\"content\":\"영화 예매\"}}},{\"component\":\"KeywordChip\",\"props\":{\"cr\":{\"source\":\"*0\",\"element\":\".block\",\"r\":19,\"i\":\"SYS-0000000002353924\",\"g\":\"%7B%22bid%22%3A%22SYS-0000000002353924%22%2C%22docRank%22%3A19%7D\",\"area\":\"\"},\"className\":\"fds-modules-keyword-chip\",\"href\":\"https://s.search.naver.com/p/intentblock/34/search.naver?ac=0&aq=0&bid=SYS-0000000002353924&display=10&lgl_lat=37.570415&lgl_long=126.979683&lgl_rcode=09110126&ngn_country=KR&nlu_query=%7B%22nquery%22%3A%22%EC%98%81%ED%99%94%22%7D&query=%EC%98%81%ED%99%94&ssc=tab.itb.all&start=1&where=nx_bridge\",\"target\":\"_blank\",\"image\":{\"src\":\"https://search.pstatic.net/common/?src=https%3A%2F%2Fmblogthumb-phinf.pstatic.net%2FMjAyNDA0MjhfMzYg%2FMDAxNzE0MjM5MDA0MTAx.9v1J3_OhxqX0KlflyTp8d19D8bugg9aEw4K2w_4lIZcg.vCW9739n2uwSuc6P3qNPSmmbxMD8JU8FzdZC7op1MW0g.JPEG%2F101311.jpg%3Ftype%3Dw800&type=f80_80\",\"alt\":\"chip image\"},\"text\":{\"content\":\"마블 영화\"}}}],\"data-fender-scroller\":true,\"data-log-innerscroll\":\"a=ugN_gnC*0.flk\"},\"actions\":[{\"action\":\"BindEvent\",\"props\":{\"listens\":[\"finish-setup\"],\"actions\":[{\"action\":\"DispatchEvent\",\"props\":{\"eventName\":\"conveyerMethod\",\"target\":\"captureContainer\",\"detail\":{\"name\":\"update\"},\"selector\":\".fds-ugc-body-popular-topic\"}}]}}]},{\"component\":\"PaginationMdButton\",\"props\":{\"className\":\"fds-ugc-body-popular-topic-btn-prev\",\"type\":\"left\",\"style\":{\"display\":\"none\"},\"shadow\":\"default\"},\"actions\":[{\"action\":\"BindEvent\",\"props\":{\"listens\":[\"click\"],\"actions\":[{\"action\":\"ClickLogTCR\",\"props\":{\"element\":\".prev\"}},{\"action\":\"ConveyerScrollBy\",\"props\":{\"pos\":-528}}]}},{\"action\":\"SubscribeEvent\",\"props\":{\"listens\":[\"conveyerReachStart\"],\"actions\":[{\"action\":\"UpdateProps\",\"props\":{\"style\":{\"display\":\"none\"}}}]}},{\"action\":\"SubscribeEvent\",\"props\":{\"listens\":[\"conveyerLeaveStart\"],\"actions\":[{\"action\":\"UpdateProps\",\"props\":{\"style\":{\"display\":\"block\"}}}]}}]},{\"component\":\"PaginationMdButton\",\"props\":{\"className\":\"fds-ugc-body-popular-topic-btn-next\",\"type\":\"right\",\"shadow\":\"default\",\"status\":\"default\"},\"actions\":[{\"action\":\"BindEvent\",\"props\":{\"listens\":[\"click\"],\"actions\":[{\"action\":\"ClickLogTCR\",\"props\":{\"element\":\".next\"}},{\"action\":\"ConveyerScrollBy\",\"props\":{\"pos\":528}}]}},{\"action\":\"SubscribeEvent\",\"props\":{\"listens\":[\"conveyerReachEnd\"],\"actions\":[{\"action\":\"UpdateProps\",\"props\":{\"style\":{\"display\":\"none\"}}}]}},{\"action\":\"SubscribeEvent\",\"props\":{\"listens\":[\"conveyerLeaveEnd\"],\"actions\":[{\"action\":\"UpdateProps\",\"props\":{\"style\":{\"display\":\"block\"}}}]}}]}]},\"actions\":[{\"action\":\"Conveyer\",\"props\":{}}]}]}},\"cr\":\"CR_OBJECT_REPLACEMENT\"}); }); };  startApplication(); })();</script><div class=\"_scrollLog\" data-slog-id=\"ugN_gnC*0\" style=\"visibility:hidden;height:0px;margin:0 28px\"></div><link rel=\"stylesheet\" type=\"text/css\" href=\"https://ssl.pstatic.net/sstatic/fe/fender/client/8804a4b916ca27c5196c/index.css\" /><div id=\"fdr-fe94e099ea804aeeacb075ad9e611970\" data-fender-root data-block-id=\"\" data-slog-container=\"ugB_b1R\" class=\"sc_new _slog_visible\"><div class=\"NynZ0UWXsDOx9tRJHcQg desktop_mode api_subject_bx\"><div class=\"fds-collection-root D1LBvY2e8wjQ7CXzSwLa\"><div class=\"jg6M59k0F_3ZWu3T_yjD\"><div class=\"jb3oT8npBM3sMHKGBe1Q\"><div class=\"y2drTA2SvPqBq_Te_2rc\"><span class=\"fds-comps-header-headline Q1IHZg5jGcHwK32ErglP\">넷플릭스 영화순위</span></div></div></div><div class=\"fds-ugc-block-mod-list D1LBvY2e8wjQ7CXzSwLa\"><div class=\"fds-ugc-block-mod D1LBvY2e8wjQ7CXzSwLa\"><div class=\"_keep_wrap fds-article-simple-box D1LBvY2e8wjQ7CXzSwLa\"><div class=\"fds-thumb-simple-group D1LBvY2e8wjQ7CXzSwLa\"><a nocr=\"1\" href=\"https://in.naver.com/youngsonam?areacode=itb_bas%2Af_other&amp;query=%EC%98%81%ED%99%94\" class=\"yz1I0On180p7Dx1HGomQ fds-thumb-anchor\" target=\"_blank\"><span class=\"XhV97JJfm3UScE5VCRI7 TV_5mXcwR9SOhIWdbHn1 hFzusHocRYOmG6pL0kE4 fds-thumb-small\" style=\"--fds-comp-image-size-width:24px\"><img width=\"24\" height=\"24\" class=\"TV_5mXcwR9SOhIWdbHn1\" alt=\"\" src=\"data:image/gif;base64,R0lGODlhAQABAIAAAAAAAP///yH5BAEAAAAALAAAAAABAAEAAAIBRAA7\"/></span></a><div class=\"fds-inner-box D1LBvY2e8wjQ7CXzSwLa\"><div class=\"fds-info-text-group D1LBvY2e8wjQ7CXzSwLa\"><a nocr=\"1\" href=\"https://in.naver.com/youngsonam?areacode=itb_bas%2Af_other&amp;query=%EC%98%81%ED%99%94\" class=\"yz1I0On180p7Dx1HGomQ fds-info-inner-text\" target=\"_blank\"><span class=\"Q1IHZg5jGcHwK32ErglP\">영소남</span></a></div><span class=\"fds-info-inner-text-green Q1IHZg5jGcHwK32ErglP\">인플루언서</span><div class=\"zIKn68DehkDMK4ehWPEs iFBR1n8q3fLhickqrwQQ\"></div><span class=\"fds-info-sub-inner-text Q1IHZg5jGcHwK32ErglP\">2주 전</span></div></div><div class=\"fds-keep-group D1LBvY2e8wjQ7CXzSwLa\"><svg xmlns=\"http://www.w3.org/2000/svg\" viewBox=\"0.5 0.5 3 13\" class=\"k3D3aHNzPdISV4OuzwPy _keep_trigger fds-btn-keep clO2C49kEbTDhEJZCwgr\" width=\"3\" height=\"13\" fill=\"none\" aria-hidden=\"true\" data-url=\"https://in.naver.com/youngsonam/contents/internal/691315171092800\" data-cr-on=\"a=ugB_b1R*f.kep\" data-cr-off=\"a=ugB_b1R*f.kep\"><path class=\"HfNItna1jEDWyVwIdwwZ\" fill-rule=\"evenodd\" clip-rule=\"evenodd\" d=\"M3.5 2C3.5 2.82843 2.82843 3.5 2 3.5C1.17157 3.5 0.5 2.82843 0.5 2C0.5 1.17157 1.17157 0.5 2 0.5C2.82843 0.5 3.5 1.17157 3.5 2ZM3.5 7C3.5 7.82843 2.82843 8.5 2 8.5C1.17157 8.5 0.5 7.82843 0.5 7C0.5 6.17157 1.17157 5.5 2 5.5C2.82843 5.5 3.5 6.17157 3.5 7ZM2 13.5C2.82843 13.5 3.5 12.8284 3.5 12C3.5 11.1716 2.82843 10.5 2 10.5C1.17157 10.5 0.5 11.1716 0.5 12C0.5 12.8284 1.17157 13.5 2 13.5Z\"></path></svg><div class=\"fds-keep-layer api_ly_save _keep_save_layer\"><a href=\"#\" role=\"button\" class=\"spnew_af item item_save _keep_save\" data-cr-on=\"a=ugB_b1R*f.kepon&amp;r=1&amp;i=SYS-0000000033743369.a0209rl4_nblog_post_223439296389&amp;g=%7B%22bid%22%3A%22SYS-0000000033743369%22%2C%22docRank%22%3A1%7D\" data-cr-off=\"a=ugB_b1R*f.kepoff&amp;r=1&amp;i=SYS-0000000033743369.a0209rl4_nblog_post_223439296389&amp;g=%7B%22bid%22%3A%22SYS-0000000033743369%22%2C%22docRank%22%3A1%7D\">Keep에 저장</a><a nocr=\"1\" href=\"https://keep.naver.com/\" class=\"yz1I0On180p7Dx1HGomQ spnew_af item item_quick\" target=\"_blank\">Keep 바로가기</a></div></div></div><div class=\"fds-comps-right-image-desktop fds-ugc-body fds-comps-right-image-type-image-multi D1LBvY2e8wjQ7CXzSwLa\"><div class=\"fds-comps-right-image-content-container D1LBvY2e8wjQ7CXzSwLa\"><div class=\"fds-comps-right-image-text-container D1LBvY2e8wjQ7CXzSwLa\"><a nocr=\"1\" href=\"https://in.naver.com/youngsonam/contents/internal/691315171092800?areacode=itb_bas%2Af_other&amp;query=%EC%98%81%ED%99%94\" class=\"yz1I0On180p7Dx1HGomQ fds-comps-right-image-text-title\" target=\"_blank\" data-cb-target=\"&#x27;SYS-0000000033743369.a0209rl4_nblog_post_223439296389&#x27;\" data-cb-trigger=\"true\"><span class=\"Q1IHZg5jGcHwK32ErglP\">넷플릭스 <mark>영화</mark> 순위 4월 가장 인기 많았던 넷플릭스 <mark>영화</mark> 추천 6</span></a><a nocr=\"1\" href=\"https://in.naver.com/youngsonam/contents/internal/691315171092800?areacode=itb_bas%2Af_other&amp;query=%EC%98%81%ED%99%94\" class=\"yz1I0On180p7Dx1HGomQ fds-comps-right-image-text-content\" target=\"_blank\" data-cb-target=\"&#x27;SYS-0000000033743369.a0209rl4_nblog_post_223439296389&#x27;\" data-cb-trigger=\"true\"><span class=\"Q1IHZg5jGcHwK32ErglP\">넷플릭스 <mark>영화</mark> 순위 4월 가장 인기 많았던 넷플릭스 <mark>영화</mark> 추천 안녕하세요, 영소남입니다. 매달 새로운 오리지널 콘텐츠를 공개하고 있는 넷플릭스. 지난 4월에도 다양한 장르의 <mark>영화</mark>들이 공개되어 전 세계 시청자들에게 사랑받고 흥행했는데요. 일각에서는 작품성과 완성도를 신경 쓰지 않고 아무 장르의 콘텐츠나 만들어내는 것이 아니냐는 의견이 꾸준히 나오고... </span></a></div></div><div class=\"fds-comps-right-image-content-container D1LBvY2e8wjQ7CXzSwLa\"><div class=\"fds-comps-right-image-content-image-container D1LBvY2e8wjQ7CXzSwLa\"><a nocr=\"1\" href=\"https://in.naver.com/youngsonam/contents/internal/691315171092800?areacode=itb_bas%2Af_other&amp;query=%EC%98%81%ED%99%94\" class=\"yz1I0On180p7Dx1HGomQ fds-comps-right-image-content-image-container-item\" target=\"_blank\" data-cb-target=\"&#x27;SYS-0000000033743369.a0209rl4_nblog_post_223439296389&#x27;\" data-cb-trigger=\"true\"><div class=\"XhV97JJfm3UScE5VCRI7 C_r0YxWHJuy3PLh_8tme fds-comps-right-image-content-image-wrapper\"><div class=\"HyjEmVxBGyqlErW3RjKK image-ratio-container\" aria-hidden=\"true\" style=\"padding-bottom:100%\"></div><img class=\"fds-comps-right-image-content-image\" alt=\"\" src=\"data:image/gif;base64,R0lGODlhAQABAIAAAAAAAP///yH5BAEAAAAALAAAAAABAAEAAAIBRAA7\"/></div></a><a nocr=\"1\" href=\"https://in.naver.com/youngsonam/contents/internal/691315171092800?areacode=itb_bas%2Af_other&amp;query=%EC%98%81%ED%99%94\" class=\"yz1I0On180p7Dx1HGomQ fds-comps-right-image-content-image-container-item\" target=\"_blank\" data-cb-target=\"&#x27;SYS-0000000033743369.a0209rl4_nblog_post_223439296389&#x27;\" data-cb-trigger=\"true\"><div class=\"XhV97JJfm3UScE5VCRI7 C_r0YxWHJuy3PLh_8tme fds-comps-right-image-content-image-wrapper\"><div class=\"HyjEmVxBGyqlErW3RjKK image-ratio-container\" aria-hidden=\"true\" style=\"padding-bottom:100%\"></div><img class=\"fds-comps-right-image-content-image\" alt=\"\" src=\"data:image/gif;base64,R0lGODlhAQABAIAAAAAAAP///yH5BAEAAAAALAAAAAABAAEAAAIBRAA7\"/></div></a><a nocr=\"1\" href=\"https://in.naver.com/youngsonam/contents/internal/691315171092800?areacode=itb_bas%2Af_other&amp;query=%EC%98%81%ED%99%94\" class=\"yz1I0On180p7Dx1HGomQ fds-comps-right-image-content-image-container-item\" target=\"_blank\" data-cb-target=\"&#x27;SYS-0000000033743369.a0209rl4_nblog_post_223439296389&#x27;\" data-cb-trigger=\"true\"><div class=\"XhV97JJfm3UScE5VCRI7 C_r0YxWHJuy3PLh_8tme fds-comps-right-image-content-image-wrapper\"><div class=\"HyjEmVxBGyqlErW3RjKK image-ratio-container\" aria-hidden=\"true\" style=\"padding-bottom:100%\"></div><img class=\"fds-comps-right-image-content-image\" alt=\"\" src=\"data:image/gif;base64,R0lGODlhAQABAIAAAAAAAP///yH5BAEAAAAALAAAAAABAAEAAAIBRAA7\"/></div></a><a nocr=\"1\" href=\"https://in.naver.com/youngsonam/contents/internal/691315171092800?areacode=itb_bas%2Af_other&amp;query=%EC%98%81%ED%99%94\" class=\"yz1I0On180p7Dx1HGomQ fds-comps-right-image-content-image-container-item\" target=\"_blank\" data-cb-target=\"&#x27;SYS-0000000033743369.a0209rl4_nblog_post_223439296389&#x27;\" data-cb-trigger=\"true\"><div class=\"XhV97JJfm3UScE5VCRI7 C_r0YxWHJuy3PLh_8tme fds-comps-right-image-content-image-wrapper\"><div class=\"HyjEmVxBGyqlErW3RjKK image-ratio-container\" aria-hidden=\"true\" style=\"padding-bottom:100%\"></div><img class=\"fds-comps-right-image-content-image\" alt=\"\" src=\"data:image/gif;base64,R0lGODlhAQABAIAAAAAAAP///yH5BAEAAAAALAAAAAABAAEAAAIBRAA7\"/></div></a><a nocr=\"1\" href=\"https://in.naver.com/youngsonam/contents/internal/691315171092800?areacode=itb_bas%2Af_other&amp;query=%EC%98%81%ED%99%94\" class=\"yz1I0On180p7Dx1HGomQ fds-comps-right-image-content-image-container-item\" target=\"_blank\" data-cb-target=\"&#x27;SYS-0000000033743369.a0209rl4_nblog_post_223439296389&#x27;\" data-cb-trigger=\"true\"><div class=\"XhV97JJfm3UScE5VCRI7 C_r0YxWHJuy3PLh_8tme fds-comps-right-image-content-image-wrapper\"><div class=\"HyjEmVxBGyqlErW3RjKK image-ratio-container\" aria-hidden=\"true\" style=\"padding-bottom:100%\"></div><img class=\"fds-comps-right-image-content-image\" alt=\"\" src=\"data:image/gif;base64,R0lGODlhAQABAIAAAAAAAP///yH5BAEAAAAALAAAAAABAAEAAAIBRAA7\"/></div></a><div class=\"fds-comps-right-image-content-image-badge LVOR9e47OX4qqKg7hvJk ddi9Bj3pY4cgz_VyAFcL\"><div class=\"xddX0_0jbUSwg_3mwu3u\"><span class=\"uXzgM2jGQv59Kep7K4qz Q1IHZg5jGcHwK32ErglP\">21</span></div></div></div></div></div></div><div class=\"fds-ugc-cross-keyword D1LBvY2e8wjQ7CXzSwLa\"><div class=\"fds-ugc-cross-keyword-container D1LBvY2e8wjQ7CXzSwLa HrdNMDPAHJT76hbOIxPN\" data-cb-container=\"SYS-0000000033743369.a0209rl4_nblog_post_223439296389\" data-rlog-container=\"a=6:ugR_brC*m:6&amp;imp=ugR_brC*m:1:|ugR_brC*m:2:|ugR_brC*m:3:|ugR_brC*m:4:|ugR_brC*m:5:|ugR_brC*m:6:\"><div class=\"fds-ugc-cross-keyword-header D1LBvY2e8wjQ7CXzSwLa\"><div class=\"fds-ugc-cross-keyword-header-left D1LBvY2e8wjQ7CXzSwLa\"><span class=\"fds-ugc-cross-keyword-header-title Q1IHZg5jGcHwK32ErglP\">함께 볼만한 검색어</span><a href=\"#\" role=\"button\" class=\"vosSVunMV1CG4kluA2ZM fds-comps-information-icon-button\"><svg xmlns=\"http://www.w3.org/2000/svg\" viewBox=\"0 0 16 16\" class=\"k3D3aHNzPdISV4OuzwPy dXgZ4TCo4k2JMPAIYj7j\" width=\"16\" height=\"16\" fill=\"none\" aria-hidden=\"true\"><path class=\"j4EDWkU9vC9s0ekRoJr6\" fill-rule=\"evenodd\" clip-rule=\"evenodd\" d=\"M8 15.5C12.1421 15.5 15.5 12.1421 15.5 8C15.5 3.85786 12.1421 0.5 8 0.5C3.85786 0.5 0.5 3.85786 0.5 8C0.5 12.1421 3.85786 15.5 8 15.5ZM8 14.5C11.5899 14.5 14.5 11.5898 14.5 7.99999C14.5 4.41014 11.5899 1.49999 8 1.49999C4.41015 1.49999 1.5 4.41014 1.5 7.99999C1.5 11.5898 4.41015 14.5 8 14.5Z\"></path><path class=\"RU115t5YpWJ9s59Yw82W\" fill-rule=\"evenodd\" clip-rule=\"evenodd\" d=\"M7.9998 3.7998C7.61321 3.7998 7.2998 4.11321 7.2998 4.4998C7.2998 4.8864 7.61321 5.1998 7.9998 5.1998C8.3864 5.1998 8.6998 4.8864 8.6998 4.4998C8.6998 4.11321 8.3864 3.7998 7.9998 3.7998ZM8.50038 6.49979H7.50038V12.4998H8.50038V6.49979Z\"></path></svg><span class=\"Ki6T3TQ1vmnHWEtb_bGu\">이 정보가 표시된 이유</span></a></div><a href=\"#\" role=\"button\" class=\"vosSVunMV1CG4kluA2ZM\" data-cb-close=\"true\"><svg xmlns=\"http://www.w3.org/2000/svg\" viewBox=\"0 0 12 12\" class=\"k3D3aHNzPdISV4OuzwPy\" width=\"12\" height=\"12\" fill=\"none\" aria-hidden=\"true\"><g clip-path=\"url(#clip0_16513_182571)\"><path class=\"bnyqv1LqT8wJtQ7P4D_A\" fill-rule=\"evenodd\" clip-rule=\"evenodd\" d=\"M5.99906 6.70715L11.1455 11.8536L11.8526 11.1465L6.70617 6.00004L11.8526 0.853591L11.1455 0.146484L5.99906 5.29293L0.852615 0.146484L0.145508 0.853591L5.29195 6.00004L0.145508 11.1465L0.852615 11.8536L5.99906 6.70715Z\"></path></g><defs><clipPath id=\"clip0_16513_182571\"><rect width=\"12\" height=\"12\" fill=\"white\"></rect></clipPath></defs></svg><span class=\"Ki6T3TQ1vmnHWEtb_bGu\">닫기에 해당하는 alt</span></a></div><div class=\"fds-ugc-cross-keyword-body D1LBvY2e8wjQ7CXzSwLa\"><div class=\"fds-ugc-cross-keyword-body-scroller D1LBvY2e8wjQ7CXzSwLa\" data-fender-scroller=\"true\" data-log-innerscroll=\"a=ugR_brC.frk\"><a nocr=\"1\" href=\"https://search.naver.com/search.naver?mra=bkEw&amp;os=33831156&amp;pkid=68&amp;query=%EB%88%88%EB%AC%BC%EC%9D%84+%EB%A7%8C%EB%93%9C%EB%8A%94+%EC%82%AC%EB%9E%8C&amp;sm=tab_clk.cross&amp;where=nexearch\" class=\"yz1I0On180p7Dx1HGomQ fds-ugc-cross-keyword-text-item\" target=\"_self\"><svg xmlns=\"http://www.w3.org/2000/svg\" viewBox=\"0 0.06300000000010186 15 15\" class=\"k3D3aHNzPdISV4OuzwPy\" width=\"15\" height=\"15\" fill=\"none\" aria-hidden=\"true\"><path class=\"VxRrmmIAj1LuZBfHAtZF\" fill-rule=\"evenodd\" clip-rule=\"evenodd\" d=\"M9.89365 2.3022C11.9425 4.35063 11.9425 7.67313 9.89365 9.72157C7.84484 11.7709 4.52299 11.7709 2.47418 9.72157C0.425274 7.67313 0.425274 4.35063 2.47418 2.3022C4.52299 0.25376 7.84484 0.25376 9.89365 2.3022Z\" stroke-width=\"1.5\"></path><path class=\"XSWgCJzEc1qAekhRn1yp\" d=\"M10.5 9.26811C10.2071 8.97523 9.73225 8.97525 9.43937 9.26815C9.14649 9.56106 9.14651 10.0359 9.43942 10.3288L10.5 9.26811ZM9.43942 10.3288L13.7664 14.6554L14.827 13.5947L10.5 9.26811L9.43942 10.3288Z\"></path></svg><span class=\"fds-ugc-cross-keyword-text-item-text Q1IHZg5jGcHwK32ErglP\">눈물을 만드는 사람</span></a><a nocr=\"1\" href=\"https://search.naver.com/search.naver?mra=bkEw&amp;os=33831154&amp;pkid=68&amp;query=%EC%98%81%ED%99%94+%ED%8A%B9%EC%A2%85%EC%9D%98+%ED%83%84%EC%83%9D&amp;sm=tab_clk.cross&amp;where=nexearch\" class=\"yz1I0On180p7Dx1HGomQ fds-ugc-cross-keyword-image-item\" target=\"_self\"><div class=\"XhV97JJfm3UScE5VCRI7 C_r0YxWHJuy3PLh_8tme fds-ugc-cross-keyword-image-item-image-wrapper\"><div class=\"HyjEmVxBGyqlErW3RjKK image-ratio-container\" aria-hidden=\"true\" style=\"padding-bottom:100%\"></div><img class=\"fds-ugc-cross-keyword-image-item-image\" alt=\"\" src=\"data:image/gif;base64,R0lGODlhAQABAIAAAAAAAP///yH5BAEAAAAALAAAAAABAAEAAAIBRAA7\"/></div><div class=\"fds-ugc-cross-keyword-image-item-text-wrapper D1LBvY2e8wjQ7CXzSwLa\"><span class=\"fds-ugc-cross-keyword-image-item-text Q1IHZg5jGcHwK32ErglP\">특종의 탄생</span></div></a><a nocr=\"1\" href=\"https://search.naver.com/search.naver?mra=bkEw&amp;os=33906720&amp;pkid=68&amp;query=%EC%98%81%ED%99%94+%EC%8A%A4%ED%86%A8%EB%A5%B8&amp;sm=tab_clk.cross&amp;where=nexearch\" class=\"yz1I0On180p7Dx1HGomQ fds-ugc-cross-keyword-image-item\" target=\"_self\"><div class=\"XhV97JJfm3UScE5VCRI7 C_r0YxWHJuy3PLh_8tme fds-ugc-cross-keyword-image-item-image-wrapper\"><div class=\"HyjEmVxBGyqlErW3RjKK image-ratio-container\" aria-hidden=\"true\" style=\"padding-bottom:100%\"></div><img class=\"fds-ugc-cross-keyword-image-item-image\" alt=\"\" src=\"data:image/gif;base64,R0lGODlhAQABAIAAAAAAAP///yH5BAEAAAAALAAAAAABAAEAAAIBRAA7\"/></div><div class=\"fds-ugc-cross-keyword-image-item-text-wrapper D1LBvY2e8wjQ7CXzSwLa\"><span class=\"fds-ugc-cross-keyword-image-item-text Q1IHZg5jGcHwK32ErglP\">스톨른</span></div></a><a nocr=\"1\" href=\"https://search.naver.com/search.naver?mra=bkEw&amp;os=6781817&amp;pkid=68&amp;query=%EC%9A%B0%EB%94%94+%EC%9A%B0%EB%93%9C%ED%8E%98%EC%BB%A4&amp;sm=tab_clk.cross&amp;where=nexearch\" class=\"yz1I0On180p7Dx1HGomQ fds-ugc-cross-keyword-image-item\" target=\"_self\"><div class=\"XhV97JJfm3UScE5VCRI7 C_r0YxWHJuy3PLh_8tme fds-ugc-cross-keyword-image-item-image-wrapper\"><div class=\"HyjEmVxBGyqlErW3RjKK image-ratio-container\" aria-hidden=\"true\" style=\"padding-bottom:100%\"></div><img class=\"fds-ugc-cross-keyword-image-item-image\" alt=\"\" src=\"data:image/gif;base64,R0lGODlhAQABAIAAAAAAAP///yH5BAEAAAAALAAAAAABAAEAAAIBRAA7\"/></div><div class=\"fds-ugc-cross-keyword-image-item-text-wrapper D1LBvY2e8wjQ7CXzSwLa\"><span class=\"fds-ugc-cross-keyword-image-item-text Q1IHZg5jGcHwK32ErglP\">우디 우드페커</span></div></a><a nocr=\"1\" href=\"https://search.naver.com/search.naver?mra=bkEw&amp;os=32506851&amp;pkid=68&amp;query=Rebel+Moon%28%EB%A0%88%EB%B2%A8+%EB%AC%B8%29%3A+%ED%8C%8C%ED%8A%B82+%EC%8A%A4%EC%B9%B4%EA%B8%B0%EB%B2%84&amp;sm=tab_clk.cross&amp;where=nexearch\" class=\"yz1I0On180p7Dx1HGomQ fds-ugc-cross-keyword-image-item\" target=\"_self\"><div class=\"XhV97JJfm3UScE5VCRI7 C_r0YxWHJuy3PLh_8tme fds-ugc-cross-keyword-image-item-image-wrapper\"><div class=\"HyjEmVxBGyqlErW3RjKK image-ratio-container\" aria-hidden=\"true\" style=\"padding-bottom:100%\"></div><img class=\"fds-ugc-cross-keyword-image-item-image\" alt=\"\" src=\"data:image/gif;base64,R0lGODlhAQABAIAAAAAAAP///yH5BAEAAAAALAAAAAABAAEAAAIBRAA7\"/></div><div class=\"fds-ugc-cross-keyword-image-item-text-wrapper D1LBvY2e8wjQ7CXzSwLa\"><span class=\"fds-ugc-cross-keyword-image-item-text Q1IHZg5jGcHwK32ErglP\">Rebel Moon(레벨 문): 파트2 스카기버</span></div></a><a nocr=\"1\" href=\"https://search.naver.com/search.naver?mra=bkEw&amp;os=33942253&amp;pkid=68&amp;query=%EC%98%81%ED%99%94+%EC%8B%9C%ED%8B%B0%ED%97%8C%ED%84%B0&amp;sm=tab_clk.cross&amp;where=nexearch\" class=\"yz1I0On180p7Dx1HGomQ fds-ugc-cross-keyword-image-item\" target=\"_self\"><div class=\"XhV97JJfm3UScE5VCRI7 C_r0YxWHJuy3PLh_8tme fds-ugc-cross-keyword-image-item-image-wrapper\"><div class=\"HyjEmVxBGyqlErW3RjKK image-ratio-container\" aria-hidden=\"true\" style=\"padding-bottom:100%\"></div><img class=\"fds-ugc-cross-keyword-image-item-image\" alt=\"\" src=\"data:image/gif;base64,R0lGODlhAQABAIAAAAAAAP///yH5BAEAAAAALAAAAAABAAEAAAIBRAA7\"/></div><div class=\"fds-ugc-cross-keyword-image-item-text-wrapper D1LBvY2e8wjQ7CXzSwLa\"><span class=\"fds-ugc-cross-keyword-image-item-text Q1IHZg5jGcHwK32ErglP\">시티헌터</span></div></a></div><div role=\"button\" class=\"fds-ugc-cross-keyword-prev-button katnMk7Po8TARCQ6HdHj mMszZX3AD40tq5mzLsBS w55h4CVUCwaHyvUxlgVT\" style=\"display:none\"><svg xmlns=\"http://www.w3.org/2000/svg\" viewBox=\"0 0.5 36 36\" class=\"k3D3aHNzPdISV4OuzwPy P26DzdqErYphNwQhloh2 Mk3NGX3ipvYPfHJamsW0\" width=\"36\" height=\"36\" fill=\"none\" aria-hidden=\"true\"><circle class=\"jKLgUGy2EQbfrejVrMIg\" cx=\"18\" cy=\"18.5\" r=\"17.5\"></circle></svg><svg xmlns=\"http://www.w3.org/2000/svg\" viewBox=\"0.5 0.5 8 12\" class=\"k3D3aHNzPdISV4OuzwPy FUHPGuzkFhG3x8yQwmcc yB6Nihhr2IgyndiaY6cf\" width=\"8\" height=\"12\" fill=\"none\" aria-hidden=\"true\"><path class=\"emmVULsZs56IJPbPIOIS\" d=\"M7 1.5L2 6.5L7 11.5\" stroke-width=\"1.5\"></path></svg></div><div role=\"button\" class=\"fds-ugc-cross-keyword-next-button katnMk7Po8TARCQ6HdHj mMszZX3AD40tq5mzLsBS cvOXwHMYpIPvG9hhG8kQ\"><svg xmlns=\"http://www.w3.org/2000/svg\" viewBox=\"0 0.5 36 36\" class=\"k3D3aHNzPdISV4OuzwPy P26DzdqErYphNwQhloh2 Mk3NGX3ipvYPfHJamsW0\" width=\"36\" height=\"36\" fill=\"none\" aria-hidden=\"true\"><circle class=\"jKLgUGy2EQbfrejVrMIg\" cx=\"18\" cy=\"18.5\" r=\"17.5\"></circle></svg><svg xmlns=\"http://www.w3.org/2000/svg\" viewBox=\"0.5 0.5 8 12\" class=\"k3D3aHNzPdISV4OuzwPy FUHPGuzkFhG3x8yQwmcc yB6Nihhr2IgyndiaY6cf\" width=\"8\" height=\"12\" fill=\"none\" aria-hidden=\"true\"><path class=\"emmVULsZs56IJPbPIOIS\" d=\"M2 1.5L7 6.5L2 11.5\" stroke-width=\"1.5\"></path></svg></div></div></div><div class=\"zIKn68DehkDMK4ehWPEs R2CQLWI5E7nkkFXgEfKE fds-ugc-block-divider-line\"></div></div><div class=\"fds-ugc-block-mod D1LBvY2e8wjQ7CXzSwLa\"><div class=\"_keep_wrap fds-article-simple-box D1LBvY2e8wjQ7CXzSwLa\"><div class=\"fds-thumb-simple-group D1LBvY2e8wjQ7CXzSwLa\"><a nocr=\"1\" href=\"https://in.naver.com/movies?areacode=itb_bas%2Af_other&amp;query=%EC%98%81%ED%99%94\" class=\"yz1I0On180p7Dx1HGomQ fds-thumb-anchor\" target=\"_blank\"><span class=\"XhV97JJfm3UScE5VCRI7 TV_5mXcwR9SOhIWdbHn1 hFzusHocRYOmG6pL0kE4 fds-thumb-small\" style=\"--fds-comp-image-size-width:24px\"><img width=\"24\" height=\"24\" class=\"TV_5mXcwR9SOhIWdbHn1\" alt=\"\" src=\"data:image/gif;base64,R0lGODlhAQABAIAAAAAAAP///yH5BAEAAAAALAAAAAABAAEAAAIBRAA7\"/></span></a><div class=\"fds-inner-box D1LBvY2e8wjQ7CXzSwLa\"><div class=\"fds-info-text-group D1LBvY2e8wjQ\n"
     ]
    }
   ],
   "source": [
    "url = \"https://search.naver.com/search.naver?where=nexearch&sm=top_hty&fbm=0&ie=utf8&\"\n",
    "param = {\"query\":\"영화\"}\n",
    "response =req.urlopen(url+urlencode(param)).read().decode(\"utf-8\")\n",
    "print(response[150000:200000])"
   ]
  },
  {
   "cell_type": "code",
   "execution_count": null,
   "metadata": {},
   "outputs": [],
   "source": [
    "# 사용자에게 검색어를 입력받은 후 네이버 검색 요청\n",
    "\n",
    "try:\n",
    "    keyword = input(\"검색어 입력 : \")\n",
    "    url = \"https://search.naver.com/search.naver?where=nexearch&sm=top_hty&fbm=0&ie=utf8&\"\n",
    "    param = {\"query\":\"keyword\"}\n",
    "    response = req.urlopen(url+urlencode(param)).read().decode(\"utf-8\")\n",
    "\n",
    "except HTTPError as e:\n",
    "    print(e.code)\n",
    "else:\n",
    "    print(response[150000:200000])"
   ]
  },
  {
   "cell_type": "code",
   "execution_count": null,
   "metadata": {},
   "outputs": [],
   "source": [
    "# params = [{\"ctxCd\":\"1001\"},{\"ctxCd\":\"1012\"}]\n",
    "\n",
    "params = []\n",
    "for num in [1001,1012,1013,1014]:\n",
    "    params.append(dict(ctxCd=num))\n",
    "\n",
    "# params # [{'ctxCd': 1001}, {'ctxCd': 1012}, {'ctxCd': 1013}, {'ctxCd': 1014}]\n",
    "\n",
    "\n",
    "try:\n",
    "    url = \"https://www.mois.go.kr/gpms/view/jsp/rss/rss.jsp\"\n",
    "\n",
    "    for param in params:\n",
    "        response = req.urlopen(url+\"?\"+urlencode(param)).read().decode(\"utf-8\")\n",
    "        print(response)\n",
    "\n",
    "except HTTPError as e:\n",
    "    print(e.code)"
   ]
  },
  {
   "cell_type": "code",
   "execution_count": 42,
   "metadata": {},
   "outputs": [
    {
     "name": "stdout",
     "output_type": "stream",
     "text": [
      "[('Host', 'n.news.naver.com'), ('User-agent', 'Python-urllib/3.12')]\n"
     ]
    }
   ],
   "source": [
    "url = \"https://n.news.naver.com/article/003/0012562193\"\n",
    "\n",
    "try:\n",
    "    request_url = req.Request(url)\n",
    "    req.urlopen(request_url).read().decode(\"utf-8\")\n",
    "    print(request_url.header_items()) # ('User-agent', 'Python-urllib/3.12;)\n",
    "except HTTPError as e:\n",
    "    print(e.code)"
   ]
  },
  {
   "cell_type": "code",
   "execution_count": 43,
   "metadata": {},
   "outputs": [
    {
     "name": "stderr",
     "output_type": "stream",
     "text": [
      "Error occurred during getting browser: ie, but was suppressed with fallback.\n"
     ]
    },
    {
     "name": "stdout",
     "output_type": "stream",
     "text": [
      "Mozilla/5.0 (Windows NT 10.0; Win64; x64) AppleWebKit/537.36 (KHTML, like Gecko) Chrome/122.0.0.0 Safari/537.36 Edg/122.0.0.0\n",
      "Mozilla/5.0 (Windows NT 10.0; Win64; x64) AppleWebKit/537.36 (KHTML, like Gecko) Chrome/122.0.0.0 Safari/537.36\n",
      "Mozilla/5.0 (Macintosh; Intel Mac OS X 10_15) AppleWebKit/605.1.15 (KHTML, like Gecko) Version/17.0 DuckDuckGo/7 Safari/605.1.15\n",
      "Mozilla/5.0 (iPhone; CPU iPhone OS 17_1 like Mac OS X) AppleWebKit/605.1.15 (KHTML, like Gecko) EdgiOS/119.0.2151.78 Version/17.0 Mobile/15E148 Safari/604.1\n"
     ]
    }
   ],
   "source": [
    "# {\"user-Agent\":\"Mozilla/5.0 (Windows NT 10.0; Win64; x64) AppleWebKit/537.36 (KHTML, like Gecko) Chrome/124.0.0.0 Safari/537.36\"}\n",
    "\n",
    "from fake_useragent import UserAgent\n",
    "\n",
    "UserAgent = UserAgent()\n",
    "\n",
    "print(UserAgent.ie)\n",
    "print(UserAgent.chrome)\n",
    "print(UserAgent.safari)\n",
    "print(UserAgent.random)"
   ]
  },
  {
   "cell_type": "code",
   "execution_count": 47,
   "metadata": {},
   "outputs": [
    {
     "name": "stdout",
     "output_type": "stream",
     "text": [
      "[('Host', 'n.news.naver.com'), ('User-agent', 'Mozilla/5.0 (Windows NT 10.0; Win64; x64) AppleWebKit/537.36 (KHTML, like Gecko) Chrome/122.0.0.0 Safari/537.36 Agency/98.8.8175.80')]\n"
     ]
    }
   ],
   "source": [
    "from fake_useragent import UserAgent\n",
    "url = \"https://n.news.naver.com/article/003/0012562193\"\n",
    "\n",
    "try:\n",
    "\n",
    "    userAgent =UserAgent()\n",
    "\n",
    "    headers = {\"User-agent\": userAgent.chrome}\n",
    "    request_url = req.Request(url, headers=headers)\n",
    "    \n",
    "    req.urlopen(request_url).read().decode(\"utf-8\")\n",
    "    print(request_url.header_items())\n",
    "except HTTPError as e:\n",
    "    print(e.code)"
   ]
  },
  {
   "cell_type": "code",
   "execution_count": 51,
   "metadata": {},
   "outputs": [
    {
     "name": "stdout",
     "output_type": "stream",
     "text": [
      "403\n"
     ]
    }
   ],
   "source": [
    "from fake_useragent import UserAgent\n",
    "url = \"https://finance.daum.net/api/search/ranks?limit=10\"\n",
    "\n",
    "try: \n",
    "    headers = {\"User-agent\": userAgent.chrome}\n",
    "    request_url = req.Request(url, headers=headers)\n",
    "\n",
    "    response = req.urlopen(request_url).read().decode(\"utf-8\")\n",
    "except HTTPError as e:\n",
    "    print(e.code) # 403 접근제한\n",
    "else:\n",
    "    print(response[response])"
   ]
  },
  {
   "cell_type": "code",
   "execution_count": 55,
   "metadata": {},
   "outputs": [
    {
     "name": "stdout",
     "output_type": "stream",
     "text": [
      "<class 'str'>\n",
      "{\n",
      "  \"data\" : [ {\n",
      "    \"rank\" : 1,\n",
      "    \"rankChange\" : 0,\n",
      "    \"symbolCode\" : \"A145170\",\n",
      "    \"code\" : \"KR7145170007\",\n",
      "    \"name\" : \"노브랜드\",\n",
      "    \"isNew\" : false,\n",
      "    \"tradePrice\" : 52000,\n",
      "    \"change\" : \"RISE\",\n",
      "    \"changePrice\" : 38000,\n",
      "    \"changeRate\" : 2.7142857143,\n",
      "    \"chartSlideImage\" : null\n",
      "  }, {\n",
      "    \"rank\" : 2,\n",
      "    \"rankChange\" : 0,\n",
      "    \"symbolCode\" : \"A005930\",\n",
      "    \"code\" : \"KR7005930003\",\n",
      "    \"name\" : \"삼성전자\",\n",
      "    \"isNew\" : false,\n",
      "    \"tradePrice\" : 78500,\n",
      "    \"change\" : \"RISE\",\n",
      "    \"changePrice\" : 800,\n",
      "    \"changeRate\" : 0.0102960103,\n",
      "    \"chartSlideImage\" : null\n",
      "  }, {\n",
      "    \"rank\" : 3,\n",
      "    \"rankChange\" : 5,\n",
      "    \"symbolCode\" : \"A032820\",\n",
      "    \"code\" : \"KR7032820003\",\n",
      "    \"name\" : \"우리기술\",\n",
      "    \"isNew\" : false,\n",
      "    \"tradePrice\" : 2295,\n",
      "    \"change\" : \"RISE\",\n",
      "    \"changePrice\" : 225,\n",
      "    \"changeRate\" : 0.1086956522,\n",
      "    \"chartSlideImage\" : null\n",
      "  }, {\n",
      "    \"rank\" : 4,\n",
      "    \"rankChange\" : 3,\n",
      "    \"symbolCode\" : \"A000660\",\n",
      "    \"code\" : \"KR7000660001\",\n",
      "    \"name\" : \"SK하이닉스\",\n",
      "    \"isNew\" : false,\n",
      "    \"tradePrice\" : 202500,\n",
      "    \"change\" : \"RISE\",\n",
      "    \"changePrice\" : 4800,\n",
      "    \"changeRate\" : 0.0242792109,\n",
      "    \"chartSlideImage\" : null\n",
      "  }, {\n",
      "    \"rank\" : 5,\n",
      "    \"rankChange\" : -2,\n",
      "    \"symbolCode\" : \"A028300\",\n",
      "    \"code\" : \"KR7028300002\",\n",
      "    \"name\" : \"HLB\",\n",
      "    \"isNew\" : false,\n",
      "    \"tradePrice\" : 51100,\n",
      "    \"change\" : \"RISE\",\n",
      "    \"changePrice\" : 1800,\n",
      "    \"changeRate\" : 0.0365111562,\n",
      "    \"chartSlideImage\" : null\n",
      "  }, {\n",
      "    \"rank\" : 6,\n",
      "    \"rankChange\" : 0,\n",
      "    \"symbolCode\" : \"A417200\",\n",
      "    \"code\" : \"KR7417200003\",\n",
      "    \"name\" : \"LS머트리얼즈\",\n",
      "    \"isNew\" : false,\n",
      "    \"tradePrice\" : 29950,\n",
      "    \"change\" : \"RISE\",\n",
      "    \"changePrice\" : 4050,\n",
      "    \"changeRate\" : 0.1563706564,\n",
      "    \"chartSlideImage\" : null\n",
      "  }, {\n",
      "    \"rank\" : 7,\n",
      "    \"rankChange\" : -3,\n",
      "    \"symbolCode\" : \"A475150\",\n",
      "    \"code\" : \"KR7475150009\",\n",
      "    \"name\" : \"SK이터닉스\",\n",
      "    \"isNew\" : false,\n",
      "    \"tradePrice\" : 31200,\n",
      "    \"change\" : \"RISE\",\n",
      "    \"changePrice\" : 750,\n",
      "    \"changeRate\" : 0.0246305419,\n",
      "    \"chartSlideImage\" : null\n",
      "  }, {\n",
      "    \"rank\" : 8,\n",
      "    \"rankChange\" : 0,\n",
      "    \"symbolCode\" : \"A005380\",\n",
      "    \"code\" : \"KR7005380001\",\n",
      "    \"name\" : \"현대차\",\n",
      "    \"isNew\" : true,\n",
      "    \"tradePrice\" : 272000,\n",
      "    \"change\" : \"FALL\",\n",
      "    \"changePrice\" : 5000,\n",
      "    \"changeRate\" : 0.0180505415,\n",
      "    \"chartSlideImage\" : null\n",
      "  }, {\n",
      "    \"rank\" : 9,\n",
      "    \"rankChange\" : 0,\n",
      "    \"symbolCode\" : \"A068270\",\n",
      "    \"code\" : \"KR7068270008\",\n",
      "    \"name\" : \"셀트리온\",\n",
      "    \"isNew\" : false,\n",
      "    \"tradePrice\" : 185200,\n",
      "    \"change\" : \"RISE\",\n",
      "    \"changePrice\" : 400,\n",
      "    \"changeRate\" : 0.0021645022,\n",
      "    \"chartSlideImage\" : null\n",
      "  }, {\n",
      "    \"rank\" : 10,\n",
      "    \"rankChange\" : 0,\n",
      "    \"symbolCode\" : \"A001440\",\n",
      "    \"code\" : \"KR7001440007\",\n",
      "    \"name\" : \"대한전선\",\n",
      "    \"isNew\" : false,\n",
      "    \"tradePrice\" : 18160,\n",
      "    \"change\" : \"FALL\",\n",
      "    \"changePrice\" : 490,\n",
      "    \"changeRate\" : 0.0262734584,\n",
      "    \"chartSlideImage\" : null\n",
      "  } ]\n",
      "}\n"
     ]
    }
   ],
   "source": [
    "from fake_useragent import UserAgent\n",
    "url = \"https://finance.daum.net/api/search/ranks?limit=10\"\n",
    "\n",
    "try: \n",
    "    headers = {\n",
    "        \"Referer\":\"https://finance.daum.net/\",\n",
    "        \"User-agent\": userAgent.chrome\n",
    "    }\n",
    "    request_url = req.Request(url, headers=headers)\n",
    "\n",
    "    response = req.urlopen(request_url).read().decode(\"utf-8\")\n",
    "    \n",
    "except HTTPError as e:\n",
    "    print(e.code) \n",
    "else:\n",
    "    print(response)"
   ]
  },
  {
   "cell_type": "code",
   "execution_count": 63,
   "metadata": {},
   "outputs": [
    {
     "name": "stdout",
     "output_type": "stream",
     "text": [
      "순위 : 1, 금액 : 52000, 회사명 : 노브랜드\n",
      "순위 : 2, 금액 : 78900, 회사명 : 삼성전자\n",
      "순위 : 3, 금액 : 51400, 회사명 : HLB\n",
      "순위 : 4, 금액 : 29700, 회사명 : LS머트리얼즈\n",
      "순위 : 5, 금액 : 2255, 회사명 : 우리기술\n",
      "순위 : 6, 금액 : 149800, 회사명 : 한미반도체\n",
      "순위 : 7, 금액 : 31400, 회사명 : SK이터닉스\n",
      "순위 : 8, 금액 : 202000, 회사명 : SK하이닉스\n",
      "순위 : 9, 금액 : 270500, 회사명 : 현대차\n",
      "순위 : 10, 금액 : 184600, 회사명 : 셀트리온\n",
      "[{'순위': 1, '금액': 52000, '회사명': '노브랜드'}, {'순위': 2, '금액': 78900, '회사명': '삼성전자'}, {'순위': 3, '금액': 51400, '회사명': 'HLB'}, {'순위': 4, '금액': 29700, '회사명': 'LS머트리얼즈'}, {'순위': 5, '금액': 2255, '회사명': '우리기술'}, {'순위': 6, '금액': 149800, '회사명': '한미반도체'}, {'순위': 7, '금액': 31400, '회사명': 'SK이터닉스'}, {'순위': 8, '금액': 202000, '회사명': 'SK하이닉스'}, {'순위': 9, '금액': 270500, '회사명': '현대차'}, {'순위': 10, '금액': 184600, '회사명': '셀트리온'}]\n",
      "성공\n"
     ]
    }
   ],
   "source": [
    "from fake_useragent import UserAgent\n",
    "import json\n",
    "import csv\n",
    "\n",
    "url = \"https://finance.daum.net/api/search/ranks?limit=10\"\n",
    "\n",
    "try: \n",
    "    headers = {\n",
    "        \"Referer\":\"https://finance.daum.net/\",\n",
    "        \"User-agent\": userAgent.chrome\n",
    "    }\n",
    "    request_url = req.Request(url, headers=headers)\n",
    "    response = req.urlopen(request_url).read().decode(\"utf-8\")\n",
    "    \n",
    "    # print(type(response)) # <class 'str'>\n",
    "    rank_json = json.loads(response)[\"data\"]\n",
    "\n",
    "    data = []\n",
    "    \n",
    "    for item in rank_json:\n",
    "        print(f\"순위 : {item[\"rank\"]}, 금액 : {item[\"tradePrice\"]}, 회사명 : {item[\"name\"]}\")\n",
    "\n",
    "        dict1 = {\"순위\" : item[\"rank\"], \"금액\" : item[\"tradePrice\"], \"회사명\" : item[\"name\"]}\n",
    "        data.append(dict1)\n",
    "              \n",
    "    print(data)\n",
    "    # 파일저장\n",
    "    # stock.csv 저장\n",
    "    with open(\"./download/stock.csv\",\"w\",encoding=\"utf-8\",newline=\"\")as f:\n",
    "        output = csv.writer(f)\n",
    "        # 제목 행\n",
    "        output.writerow(data[0].keys())\n",
    "        for row in data:\n",
    "            output.writerow(row.values())\n",
    "\n",
    "except HTTPError as e:\n",
    "    print(e.code) \n",
    "else:\n",
    "    # print(response)\n",
    "    print(\"성공\")"
   ]
  }
 ],
 "metadata": {
  "kernelspec": {
   "display_name": "venv",
   "language": "python",
   "name": "python3"
  },
  "language_info": {
   "codemirror_mode": {
    "name": "ipython",
    "version": 3
   },
   "file_extension": ".py",
   "mimetype": "text/x-python",
   "name": "python",
   "nbconvert_exporter": "python",
   "pygments_lexer": "ipython3",
   "version": "3.12.3"
  }
 },
 "nbformat": 4,
 "nbformat_minor": 2
}
