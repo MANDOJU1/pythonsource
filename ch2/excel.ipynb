{
 "cells": [
  {
   "cell_type": "markdown",
   "metadata": {},
   "source": [
    "pip : 파이썬 모듈이나 패키지를 쉽게 설치할 수 있도록 도와주는 도구\n",
    "\n",
    "1. 패키지 라이브러리 설치\n",
    "pip install 패키지명\n",
    "pip install 패키지명 == 1.0.4\n",
    "\n",
    "2. 패키지 업그레이드\n",
    "pip install --upgrade 패키지명\n",
    "\n",
    "3. 패키지 제거\n",
    "pip uninstall 패키지명\n",
    "\n",
    "4. 설치된 패키지 확인\n",
    "pip list\n",
    "\n",
    "pip install openpyxl : 엑셀파일 패키지\n",
    "pip install Pillow : 이미지 패키지"
   ]
  },
  {
   "cell_type": "code",
   "execution_count": 2,
   "metadata": {},
   "outputs": [],
   "source": [
    "from openpyxl import Workbook"
   ]
  },
  {
   "cell_type": "code",
   "execution_count": 3,
   "metadata": {},
   "outputs": [],
   "source": [
    "from openpyxl import Workbook\n",
    "\n",
    "wb = Workbook() # 새 워크북 생성\n",
    "ws = wb.active # 현재 활성화된 sheet 가져옴\n",
    "\n",
    "ws.title = \"시트1\"\n",
    "wb.save(\"./resource/sample.xlsx\")\n",
    "wb.close()"
   ]
  },
  {
   "cell_type": "code",
   "execution_count": 4,
   "metadata": {},
   "outputs": [],
   "source": [
    "# 시트 생성\n",
    "ws1 = wb.create_sheet()\n",
    "ws1.title = \"시트2\"\n",
    "ws1.sheet_properties.tabColor = \"ff66ff\"\n",
    "\n",
    "wb.save(\"./resource/sample.xlsx\")"
   ]
  },
  {
   "cell_type": "code",
   "execution_count": 5,
   "metadata": {},
   "outputs": [],
   "source": [
    "# index : 시트 위치 지정\n",
    "ws1 = wb.create_sheet(title=\"급여명세\", index=2)\n",
    "\n",
    "# 시트 복사\n",
    "new_ws = wb[\"시트2\"] # 생성된 시트에 접근\n",
    "new_ws[\"A1\"] = \"Test\"\n",
    "target = wb.copy_worksheet(new_ws)\n",
    "target.title = \"Copied Sheet\"\n",
    "\n",
    "\n",
    "wb.save(\"./resource/sample.xlsx\")"
   ]
  },
  {
   "cell_type": "code",
   "execution_count": 6,
   "metadata": {},
   "outputs": [
    {
     "data": {
      "text/plain": [
       "['시트1', '시트2', '급여명세', 'Copied Sheet']"
      ]
     },
     "execution_count": 6,
     "metadata": {},
     "output_type": "execute_result"
    }
   ],
   "source": [
    "# 생성된 모든 시트명 가져오기\n",
    "wb.sheetnames"
   ]
  },
  {
   "cell_type": "code",
   "execution_count": 26,
   "metadata": {},
   "outputs": [
    {
     "name": "stdout",
     "output_type": "stream",
     "text": [
      "<Cell '시트1'.A1>\n",
      "1\n",
      "1\n",
      "6\n",
      "10\n"
     ]
    }
   ],
   "source": [
    "ws1 = wb[\"시트1\"]\n",
    "\n",
    "# 셀에 데이터 입력\n",
    "ws1[\"A1\"] = 1\n",
    "ws1[\"A2\"] = 2\n",
    "ws1[\"A3\"] = 3\n",
    "ws1[\"A4\"] = 4\n",
    "\n",
    "ws1[\"B1\"] = 5\n",
    "ws1[\"B2\"] = 6\n",
    "ws1[\"B3\"] = 7\n",
    "ws1[\"B4\"] = 8\n",
    "\n",
    "print(ws1[\"A1\"]) # 셀 정보 출력 <Cell '시트1'.A1>\n",
    "print(ws1[\"A1\"].value) # 셀 값 출력 1\n",
    "\n",
    "print(ws1.cell(row=1, column=1).value) # A1값 : 1\n",
    "print(ws1.cell(row=2, column=2).value) # B2값 : 6\n",
    "\n",
    "w = ws1.cell(row=1,column=3,value=10)\n",
    "print(w.value)\n",
    "\n",
    "# PermissionError 계속 오류 뜸 : 엑셀파일을 닫고 저장시키면 오류 안남\n",
    "wb.save(\"./resource/sample.xlsx\")"
   ]
  },
  {
   "cell_type": "code",
   "execution_count": 28,
   "metadata": {},
   "outputs": [],
   "source": [
    "# 1 ~ 100 사이의 임의의 숫자를 채우기\n",
    "from random import randint\n",
    "\n",
    "wb = Workbook() # 새 워크북 생성\n",
    "ws = wb.active # 현재 활성화된 sheet 가져옴\n",
    "\n",
    "ws.title = \"시트1\"\n",
    "\n",
    "for x in range(1, 11):\n",
    "    for y in range(1, 11):\n",
    "        ws.cell(row=x,column=y,value=randint(1, 100))\n",
    "\n",
    "\n",
    "wb.save(\"./resource/sample2.xlsx\")\n",
    "wb.close()"
   ]
  },
  {
   "cell_type": "code",
   "execution_count": 30,
   "metadata": {},
   "outputs": [
    {
     "name": "stdout",
     "output_type": "stream",
     "text": [
      "18 42 86 89 2 74 49 55 58 14 \n",
      "14 20 33 49 22 10 16 10 88 39 \n",
      "65 87 85 72 98 62 69 99 28 55 \n",
      "16 11 29 42 94 91 37 95 7 29 \n",
      "44 71 67 52 80 5 83 98 27 18 \n",
      "48 86 32 21 41 61 40 4 89 97 \n",
      "10 85 90 7 69 40 19 62 99 4 \n",
      "51 13 91 57 57 21 9 94 52 58 \n",
      "16 14 54 48 45 6 14 93 15 13 \n",
      "83 45 100 33 100 96 38 36 57 99 \n"
     ]
    }
   ],
   "source": [
    "# excel 파일 열기\n",
    "\n",
    "from openpyxl import load_workbook\n",
    "wb = load_workbook(\"./resource/sample2.xlsx\")\n",
    "\n",
    "# 워크시트 가져오기\n",
    "ws = wb.active\n",
    "\n",
    "# 셀 내용 가져오기\n",
    "# for x in range(1, 11):\n",
    "#     for y in range(1, 11):\n",
    "#         print(ws.cell(row=x,column=y).value, end=\" \")\n",
    "#     print()\n",
    "\n",
    "for x in range(1, ws.max_row+1):\n",
    "    for y in range(1, ws.max_column+1):\n",
    "        print(ws.cell(row=x,column=y).value, end=\" \")\n",
    "    print()"
   ]
  },
  {
   "cell_type": "code",
   "execution_count": 42,
   "metadata": {},
   "outputs": [
    {
     "name": "stdout",
     "output_type": "stream",
     "text": [
      "번호 1 2 3 4 \n",
      "영어 100 5 1 97 \n"
     ]
    }
   ],
   "source": [
    "wb = Workbook()\n",
    "ws = wb.active\n",
    "\n",
    "# 행 삽입\n",
    "ws.append([\"번호\",\"영어\",\"수학\"])\n",
    "\n",
    "for i in range(1, 11):\n",
    "    ws.append([i, randint(1,100), randint(1,100)])\n",
    "\n",
    "\n",
    "# 컬럼 가져오기\n",
    "# col_B = ws[\"B\"]\n",
    "# print(col_B) # (<Cell 'Sheet'.B1>, <Cell 'Sheet'.B2>, <Cell 'Sheet'.B3>, ... <Cell 'Sheet'.B11>)\n",
    "\n",
    "\n",
    "# for cell in col_B:\n",
    "#     print(cell.value)\n",
    "\n",
    "# cols = ws[\"B:C\"]\n",
    "# for c in cols:\n",
    "#     for cell in c:\n",
    "#         print(cell.value, end=\" \")\n",
    "#     print()\n",
    "\n",
    "# 행 단위로 가져오기\n",
    "# row_title = ws[1]\n",
    "# for cell in row_title:\n",
    "#     print(cell.value)\n",
    "\n",
    "# 여러 행 가져오기\n",
    "# row_range = ws[2:6]\n",
    "# for rows in row_range:\n",
    "#     for cell in rows:\n",
    "#         print(cell.value, end=\" \")   \n",
    "#     print()\n",
    "\n",
    "# for row in tuple(ws.rows):\n",
    "#     print(row[1].value)\n",
    "\n",
    "# for col in tuple(ws.columns):\n",
    "    # print(col[0].value)\n",
    "\n",
    "# ws.iter_rows() : 전체 rows 가져오기\n",
    "# ws.iter_rows(min_row=1,max_row=5,max_col=1) : 특정 범위의 rows, cols 가져오기\n",
    "# for row in ws.iter_rows(min_row=1,max_row=5,max_col=1):\n",
    "#     for cell in row:\n",
    "#         print(cell.value, end=\" \")\n",
    "#     print()\n",
    "\n",
    "for col in ws.iter_cols(min_row=1,max_row=5,max_col=2):\n",
    "    for cell in col:\n",
    "        print(cell.value, end=\" \")\n",
    "    print()\n",
    "\n",
    "wb.save(\"./resource/range.xlsx\")"
   ]
  },
  {
   "cell_type": "code",
   "execution_count": null,
   "metadata": {},
   "outputs": [],
   "source": []
  }
 ],
 "metadata": {
  "kernelspec": {
   "display_name": "venv",
   "language": "python",
   "name": "python3"
  },
  "language_info": {
   "codemirror_mode": {
    "name": "ipython",
    "version": 3
   },
   "file_extension": ".py",
   "mimetype": "text/x-python",
   "name": "python",
   "nbconvert_exporter": "python",
   "pygments_lexer": "ipython3",
   "version": "3.12.3"
  }
 },
 "nbformat": 4,
 "nbformat_minor": 2
}
